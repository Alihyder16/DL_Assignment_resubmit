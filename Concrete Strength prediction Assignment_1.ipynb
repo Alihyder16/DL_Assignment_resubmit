{
 "cells": [
  {
   "cell_type": "markdown",
   "metadata": {},
   "source": [
    "# Assignment: Compresive Strength Concrete Problem\n",
    "\n",
    "\n",
    "### Abstract: \n",
    "\n",
    "Concrete is the most important material in civil engineering. The concrete compressive strength (concrete strength to bear the load) is a highly nonlinear function of age and ingredients.  <br><br>\n",
    "\n",
    "<table border=\"1\"  cellpadding=\"6\" bordercolor=\"red\">\n",
    "\t<tbody>\n",
    "        <tr>\n",
    "\t\t<td bgcolor=\"#DDEEFF\"><p class=\"normal\"><b>Data Set Characteristics:&nbsp;&nbsp;</b></p></td>\n",
    "\t\t<td><p class=\"normal\">Multivariate</p></td>\n",
    "\t\t<td bgcolor=\"#DDEEFF\"><p class=\"normal\"><b>Number of Instances:</b></p></td>\n",
    "\t\t<td><p class=\"normal\">1030</p></td>\n",
    "\t\t<td bgcolor=\"#DDEEFF\"><p class=\"normal\"><b>Area:</b></p></td>\n",
    "\t\t<td><p class=\"normal\">Physical</p></td>\n",
    "        </tr>\n",
    "     </tbody>\n",
    "    </table>\n",
    "<table border=\"1\" cellpadding=\"6\">\n",
    "    <tbody>\n",
    "        <tr>\n",
    "            <td bgcolor=\"#DDEEFF\"><p class=\"normal\"><b>Attribute Characteristics:</b></p></td>\n",
    "            <td><p class=\"normal\">Real</p></td>\n",
    "            <td bgcolor=\"#DDEEFF\"><p class=\"normal\"><b>Number of Attributes:</b></p></td>\n",
    "            <td><p class=\"normal\">9</p></td>\n",
    "            <td bgcolor=\"#DDEEFF\"><p class=\"normal\"><b>Date Donated</b></p></td>\n",
    "            <td><p class=\"normal\">2007-08-03</p></td>\n",
    "        </tr>\n",
    "     </tbody>\n",
    "    </table>\n",
    "<table border=\"1\" cellpadding=\"6\">\t\n",
    "    <tbody>\n",
    "    <tr>\n",
    "\t\t<td bgcolor=\"#DDEEFF\"><p class=\"normal\"><b>Associated Tasks:</b></p></td>\n",
    "\t\t<td><p class=\"normal\">Regression</p></td>\n",
    "\t\t<td bgcolor=\"#DDEEFF\"><p class=\"normal\"><b>Missing Values?</b></p></td>\n",
    "\t\t<td><p class=\"normal\">N/A</p></td>\n",
    "\t\t<td bgcolor=\"#DDEEFF\"><p class=\"normal\"><b>Number of Web Hits:</b></p></td>\n",
    "\t\t<td><p class=\"normal\">231464</p></td>\n",
    "\t</tr>\n",
    "    </tbody>\n",
    "    </table>"
   ]
  },
  {
   "cell_type": "code",
   "execution_count": 1,
   "metadata": {},
   "outputs": [],
   "source": [
    "import pandas as pd\n",
    "import numpy as np"
   ]
  },
  {
   "cell_type": "code",
   "execution_count": 2,
   "metadata": {},
   "outputs": [],
   "source": [
    "data = pd.read_csv(\"concrete.csv\")"
   ]
  },
  {
   "cell_type": "code",
   "execution_count": 3,
   "metadata": {
    "scrolled": true
   },
   "outputs": [
    {
     "data": {
      "text/html": [
       "<div>\n",
       "<style scoped>\n",
       "    .dataframe tbody tr th:only-of-type {\n",
       "        vertical-align: middle;\n",
       "    }\n",
       "\n",
       "    .dataframe tbody tr th {\n",
       "        vertical-align: top;\n",
       "    }\n",
       "\n",
       "    .dataframe thead th {\n",
       "        text-align: right;\n",
       "    }\n",
       "</style>\n",
       "<table border=\"1\" class=\"dataframe\">\n",
       "  <thead>\n",
       "    <tr style=\"text-align: right;\">\n",
       "      <th></th>\n",
       "      <th>Cement (component 1)(kg in a m^3 mixture)</th>\n",
       "      <th>Blast Furnace Slag (component 2)(kg in a m^3 mixture)</th>\n",
       "      <th>Fly Ash (component 3)(kg in a m^3 mixture)</th>\n",
       "      <th>Water  (component 4)(kg in a m^3 mixture)</th>\n",
       "      <th>Superplasticizer (component 5)(kg in a m^3 mixture)</th>\n",
       "      <th>Coarse Aggregate  (component 6)(kg in a m^3 mixture)</th>\n",
       "      <th>Fine Aggregate (component 7)(kg in a m^3 mixture)</th>\n",
       "      <th>Age (day)</th>\n",
       "      <th>Concrete compressive strength(MPa, megapascals)</th>\n",
       "    </tr>\n",
       "  </thead>\n",
       "  <tbody>\n",
       "    <tr>\n",
       "      <th>0</th>\n",
       "      <td>540.0</td>\n",
       "      <td>0.0</td>\n",
       "      <td>0.0</td>\n",
       "      <td>162.0</td>\n",
       "      <td>2.5</td>\n",
       "      <td>1040.0</td>\n",
       "      <td>676.0</td>\n",
       "      <td>28</td>\n",
       "      <td>79.99</td>\n",
       "    </tr>\n",
       "    <tr>\n",
       "      <th>1</th>\n",
       "      <td>540.0</td>\n",
       "      <td>0.0</td>\n",
       "      <td>0.0</td>\n",
       "      <td>162.0</td>\n",
       "      <td>2.5</td>\n",
       "      <td>1055.0</td>\n",
       "      <td>676.0</td>\n",
       "      <td>28</td>\n",
       "      <td>61.89</td>\n",
       "    </tr>\n",
       "    <tr>\n",
       "      <th>2</th>\n",
       "      <td>332.5</td>\n",
       "      <td>142.5</td>\n",
       "      <td>0.0</td>\n",
       "      <td>228.0</td>\n",
       "      <td>0.0</td>\n",
       "      <td>932.0</td>\n",
       "      <td>594.0</td>\n",
       "      <td>270</td>\n",
       "      <td>40.27</td>\n",
       "    </tr>\n",
       "    <tr>\n",
       "      <th>3</th>\n",
       "      <td>332.5</td>\n",
       "      <td>142.5</td>\n",
       "      <td>0.0</td>\n",
       "      <td>228.0</td>\n",
       "      <td>0.0</td>\n",
       "      <td>932.0</td>\n",
       "      <td>594.0</td>\n",
       "      <td>365</td>\n",
       "      <td>41.05</td>\n",
       "    </tr>\n",
       "    <tr>\n",
       "      <th>4</th>\n",
       "      <td>198.6</td>\n",
       "      <td>132.4</td>\n",
       "      <td>0.0</td>\n",
       "      <td>192.0</td>\n",
       "      <td>0.0</td>\n",
       "      <td>978.4</td>\n",
       "      <td>825.5</td>\n",
       "      <td>360</td>\n",
       "      <td>44.30</td>\n",
       "    </tr>\n",
       "    <tr>\n",
       "      <th>...</th>\n",
       "      <td>...</td>\n",
       "      <td>...</td>\n",
       "      <td>...</td>\n",
       "      <td>...</td>\n",
       "      <td>...</td>\n",
       "      <td>...</td>\n",
       "      <td>...</td>\n",
       "      <td>...</td>\n",
       "      <td>...</td>\n",
       "    </tr>\n",
       "    <tr>\n",
       "      <th>1025</th>\n",
       "      <td>276.4</td>\n",
       "      <td>116.0</td>\n",
       "      <td>90.3</td>\n",
       "      <td>179.6</td>\n",
       "      <td>8.9</td>\n",
       "      <td>870.1</td>\n",
       "      <td>768.3</td>\n",
       "      <td>28</td>\n",
       "      <td>44.28</td>\n",
       "    </tr>\n",
       "    <tr>\n",
       "      <th>1026</th>\n",
       "      <td>322.2</td>\n",
       "      <td>0.0</td>\n",
       "      <td>115.6</td>\n",
       "      <td>196.0</td>\n",
       "      <td>10.4</td>\n",
       "      <td>817.9</td>\n",
       "      <td>813.4</td>\n",
       "      <td>28</td>\n",
       "      <td>31.18</td>\n",
       "    </tr>\n",
       "    <tr>\n",
       "      <th>1027</th>\n",
       "      <td>148.5</td>\n",
       "      <td>139.4</td>\n",
       "      <td>108.6</td>\n",
       "      <td>192.7</td>\n",
       "      <td>6.1</td>\n",
       "      <td>892.4</td>\n",
       "      <td>780.0</td>\n",
       "      <td>28</td>\n",
       "      <td>23.70</td>\n",
       "    </tr>\n",
       "    <tr>\n",
       "      <th>1028</th>\n",
       "      <td>159.1</td>\n",
       "      <td>186.7</td>\n",
       "      <td>0.0</td>\n",
       "      <td>175.6</td>\n",
       "      <td>11.3</td>\n",
       "      <td>989.6</td>\n",
       "      <td>788.9</td>\n",
       "      <td>28</td>\n",
       "      <td>32.77</td>\n",
       "    </tr>\n",
       "    <tr>\n",
       "      <th>1029</th>\n",
       "      <td>260.9</td>\n",
       "      <td>100.5</td>\n",
       "      <td>78.3</td>\n",
       "      <td>200.6</td>\n",
       "      <td>8.6</td>\n",
       "      <td>864.5</td>\n",
       "      <td>761.5</td>\n",
       "      <td>28</td>\n",
       "      <td>32.40</td>\n",
       "    </tr>\n",
       "  </tbody>\n",
       "</table>\n",
       "<p>1030 rows × 9 columns</p>\n",
       "</div>"
      ],
      "text/plain": [
       "      Cement (component 1)(kg in a m^3 mixture)  \\\n",
       "0                                         540.0   \n",
       "1                                         540.0   \n",
       "2                                         332.5   \n",
       "3                                         332.5   \n",
       "4                                         198.6   \n",
       "...                                         ...   \n",
       "1025                                      276.4   \n",
       "1026                                      322.2   \n",
       "1027                                      148.5   \n",
       "1028                                      159.1   \n",
       "1029                                      260.9   \n",
       "\n",
       "      Blast Furnace Slag (component 2)(kg in a m^3 mixture)  \\\n",
       "0                                                   0.0       \n",
       "1                                                   0.0       \n",
       "2                                                 142.5       \n",
       "3                                                 142.5       \n",
       "4                                                 132.4       \n",
       "...                                                 ...       \n",
       "1025                                              116.0       \n",
       "1026                                                0.0       \n",
       "1027                                              139.4       \n",
       "1028                                              186.7       \n",
       "1029                                              100.5       \n",
       "\n",
       "      Fly Ash (component 3)(kg in a m^3 mixture)  \\\n",
       "0                                            0.0   \n",
       "1                                            0.0   \n",
       "2                                            0.0   \n",
       "3                                            0.0   \n",
       "4                                            0.0   \n",
       "...                                          ...   \n",
       "1025                                        90.3   \n",
       "1026                                       115.6   \n",
       "1027                                       108.6   \n",
       "1028                                         0.0   \n",
       "1029                                        78.3   \n",
       "\n",
       "      Water  (component 4)(kg in a m^3 mixture)  \\\n",
       "0                                         162.0   \n",
       "1                                         162.0   \n",
       "2                                         228.0   \n",
       "3                                         228.0   \n",
       "4                                         192.0   \n",
       "...                                         ...   \n",
       "1025                                      179.6   \n",
       "1026                                      196.0   \n",
       "1027                                      192.7   \n",
       "1028                                      175.6   \n",
       "1029                                      200.6   \n",
       "\n",
       "      Superplasticizer (component 5)(kg in a m^3 mixture)  \\\n",
       "0                                                   2.5     \n",
       "1                                                   2.5     \n",
       "2                                                   0.0     \n",
       "3                                                   0.0     \n",
       "4                                                   0.0     \n",
       "...                                                 ...     \n",
       "1025                                                8.9     \n",
       "1026                                               10.4     \n",
       "1027                                                6.1     \n",
       "1028                                               11.3     \n",
       "1029                                                8.6     \n",
       "\n",
       "      Coarse Aggregate  (component 6)(kg in a m^3 mixture)  \\\n",
       "0                                                1040.0      \n",
       "1                                                1055.0      \n",
       "2                                                 932.0      \n",
       "3                                                 932.0      \n",
       "4                                                 978.4      \n",
       "...                                                 ...      \n",
       "1025                                              870.1      \n",
       "1026                                              817.9      \n",
       "1027                                              892.4      \n",
       "1028                                              989.6      \n",
       "1029                                              864.5      \n",
       "\n",
       "      Fine Aggregate (component 7)(kg in a m^3 mixture)  Age (day)  \\\n",
       "0                                                 676.0         28   \n",
       "1                                                 676.0         28   \n",
       "2                                                 594.0        270   \n",
       "3                                                 594.0        365   \n",
       "4                                                 825.5        360   \n",
       "...                                                 ...        ...   \n",
       "1025                                              768.3         28   \n",
       "1026                                              813.4         28   \n",
       "1027                                              780.0         28   \n",
       "1028                                              788.9         28   \n",
       "1029                                              761.5         28   \n",
       "\n",
       "      Concrete compressive strength(MPa, megapascals)   \n",
       "0                                                79.99  \n",
       "1                                                61.89  \n",
       "2                                                40.27  \n",
       "3                                                41.05  \n",
       "4                                                44.30  \n",
       "...                                                ...  \n",
       "1025                                             44.28  \n",
       "1026                                             31.18  \n",
       "1027                                             23.70  \n",
       "1028                                             32.77  \n",
       "1029                                             32.40  \n",
       "\n",
       "[1030 rows x 9 columns]"
      ]
     },
     "execution_count": 3,
     "metadata": {},
     "output_type": "execute_result"
    }
   ],
   "source": [
    "data"
   ]
  },
  {
   "cell_type": "code",
   "execution_count": 4,
   "metadata": {},
   "outputs": [
    {
     "data": {
      "text/plain": [
       "Index(['Cement (component 1)(kg in a m^3 mixture)',\n",
       "       'Blast Furnace Slag (component 2)(kg in a m^3 mixture)',\n",
       "       'Fly Ash (component 3)(kg in a m^3 mixture)',\n",
       "       'Water  (component 4)(kg in a m^3 mixture)',\n",
       "       'Superplasticizer (component 5)(kg in a m^3 mixture)',\n",
       "       'Coarse Aggregate  (component 6)(kg in a m^3 mixture)',\n",
       "       'Fine Aggregate (component 7)(kg in a m^3 mixture)', 'Age (day)',\n",
       "       'Concrete compressive strength(MPa, megapascals) '],\n",
       "      dtype='object')"
      ]
     },
     "execution_count": 4,
     "metadata": {},
     "output_type": "execute_result"
    }
   ],
   "source": [
    "data.columns"
   ]
  },
  {
   "cell_type": "code",
   "execution_count": 5,
   "metadata": {},
   "outputs": [],
   "source": [
    "# data_labels=data['Concrete compressive strength(MPa, megapascals) ']\n",
    "# data_labels"
   ]
  },
  {
   "cell_type": "code",
   "execution_count": 6,
   "metadata": {},
   "outputs": [],
   "source": [
    "# data = data.drop(['Concrete compressive strength(MPa, megapascals) '], axis=1)\n",
    "# data"
   ]
  },
  {
   "cell_type": "code",
   "execution_count": 7,
   "metadata": {},
   "outputs": [
    {
     "data": {
      "text/plain": [
       "Cement (component 1)(kg in a m^3 mixture)                0\n",
       "Blast Furnace Slag (component 2)(kg in a m^3 mixture)    0\n",
       "Fly Ash (component 3)(kg in a m^3 mixture)               0\n",
       "Water  (component 4)(kg in a m^3 mixture)                0\n",
       "Superplasticizer (component 5)(kg in a m^3 mixture)      0\n",
       "Coarse Aggregate  (component 6)(kg in a m^3 mixture)     0\n",
       "Fine Aggregate (component 7)(kg in a m^3 mixture)        0\n",
       "Age (day)                                                0\n",
       "Concrete compressive strength(MPa, megapascals)          0\n",
       "dtype: int64"
      ]
     },
     "execution_count": 7,
     "metadata": {},
     "output_type": "execute_result"
    }
   ],
   "source": [
    "data.isnull().sum()"
   ]
  },
  {
   "cell_type": "code",
   "execution_count": 8,
   "metadata": {},
   "outputs": [
    {
     "data": {
      "text/plain": [
       "False"
      ]
     },
     "execution_count": 8,
     "metadata": {},
     "output_type": "execute_result"
    }
   ],
   "source": [
    "data.isnull().values.any()"
   ]
  },
  {
   "cell_type": "code",
   "execution_count": 9,
   "metadata": {},
   "outputs": [
    {
     "data": {
      "text/plain": [
       "9270"
      ]
     },
     "execution_count": 9,
     "metadata": {},
     "output_type": "execute_result"
    }
   ],
   "source": [
    "data.size"
   ]
  },
  {
   "cell_type": "code",
   "execution_count": 10,
   "metadata": {},
   "outputs": [],
   "source": [
    "train_data = data.sample(frac=0.5, random_state=0)"
   ]
  },
  {
   "cell_type": "code",
   "execution_count": 11,
   "metadata": {},
   "outputs": [],
   "source": [
    "data = data.drop(train_data.index)"
   ]
  },
  {
   "cell_type": "code",
   "execution_count": 12,
   "metadata": {},
   "outputs": [],
   "source": [
    "train_total= train_data.drop(columns=['Concrete compressive strength(MPa, megapascals) '])"
   ]
  },
  {
   "cell_type": "code",
   "execution_count": 13,
   "metadata": {},
   "outputs": [],
   "source": [
    "train_label = train_data['Concrete compressive strength(MPa, megapascals) ']"
   ]
  },
  {
   "cell_type": "code",
   "execution_count": 14,
   "metadata": {},
   "outputs": [],
   "source": [
    "val_data = data.sample(frac=0.5, random_state=0)"
   ]
  },
  {
   "cell_type": "code",
   "execution_count": 15,
   "metadata": {},
   "outputs": [],
   "source": [
    "test = data.drop(val_data.index)"
   ]
  },
  {
   "cell_type": "code",
   "execution_count": 16,
   "metadata": {},
   "outputs": [],
   "source": [
    "val_total= val_data.drop(columns=['Concrete compressive strength(MPa, megapascals) '])"
   ]
  },
  {
   "cell_type": "code",
   "execution_count": 17,
   "metadata": {},
   "outputs": [],
   "source": [
    "val_label = val_data['Concrete compressive strength(MPa, megapascals) ']"
   ]
  },
  {
   "cell_type": "code",
   "execution_count": 18,
   "metadata": {},
   "outputs": [],
   "source": [
    "test_label = test['Concrete compressive strength(MPa, megapascals) ']"
   ]
  },
  {
   "cell_type": "code",
   "execution_count": 19,
   "metadata": {},
   "outputs": [],
   "source": [
    "test_total= test.drop(columns=['Concrete compressive strength(MPa, megapascals) '])"
   ]
  },
  {
   "cell_type": "code",
   "execution_count": null,
   "metadata": {},
   "outputs": [],
   "source": []
  },
  {
   "cell_type": "code",
   "execution_count": 20,
   "metadata": {},
   "outputs": [
    {
     "data": {
      "text/html": [
       "<div>\n",
       "<style scoped>\n",
       "    .dataframe tbody tr th:only-of-type {\n",
       "        vertical-align: middle;\n",
       "    }\n",
       "\n",
       "    .dataframe tbody tr th {\n",
       "        vertical-align: top;\n",
       "    }\n",
       "\n",
       "    .dataframe thead th {\n",
       "        text-align: right;\n",
       "    }\n",
       "</style>\n",
       "<table border=\"1\" class=\"dataframe\">\n",
       "  <thead>\n",
       "    <tr style=\"text-align: right;\">\n",
       "      <th></th>\n",
       "      <th>Cement (component 1)(kg in a m^3 mixture)</th>\n",
       "      <th>Blast Furnace Slag (component 2)(kg in a m^3 mixture)</th>\n",
       "      <th>Fly Ash (component 3)(kg in a m^3 mixture)</th>\n",
       "      <th>Water  (component 4)(kg in a m^3 mixture)</th>\n",
       "      <th>Superplasticizer (component 5)(kg in a m^3 mixture)</th>\n",
       "      <th>Coarse Aggregate  (component 6)(kg in a m^3 mixture)</th>\n",
       "      <th>Fine Aggregate (component 7)(kg in a m^3 mixture)</th>\n",
       "      <th>Age (day)</th>\n",
       "    </tr>\n",
       "  </thead>\n",
       "  <tbody>\n",
       "    <tr>\n",
       "      <th>count</th>\n",
       "      <td>515.000000</td>\n",
       "      <td>515.000000</td>\n",
       "      <td>515.000000</td>\n",
       "      <td>515.000000</td>\n",
       "      <td>515.000000</td>\n",
       "      <td>515.000000</td>\n",
       "      <td>515.000000</td>\n",
       "      <td>515.000000</td>\n",
       "    </tr>\n",
       "    <tr>\n",
       "      <th>mean</th>\n",
       "      <td>281.658447</td>\n",
       "      <td>69.722718</td>\n",
       "      <td>54.875146</td>\n",
       "      <td>181.965437</td>\n",
       "      <td>6.219806</td>\n",
       "      <td>975.099029</td>\n",
       "      <td>772.991262</td>\n",
       "      <td>45.800000</td>\n",
       "    </tr>\n",
       "    <tr>\n",
       "      <th>std</th>\n",
       "      <td>103.945542</td>\n",
       "      <td>84.101577</td>\n",
       "      <td>63.284133</td>\n",
       "      <td>21.534283</td>\n",
       "      <td>6.072131</td>\n",
       "      <td>76.466672</td>\n",
       "      <td>80.156501</td>\n",
       "      <td>60.786806</td>\n",
       "    </tr>\n",
       "    <tr>\n",
       "      <th>min</th>\n",
       "      <td>102.000000</td>\n",
       "      <td>0.000000</td>\n",
       "      <td>0.000000</td>\n",
       "      <td>121.800000</td>\n",
       "      <td>0.000000</td>\n",
       "      <td>801.000000</td>\n",
       "      <td>594.000000</td>\n",
       "      <td>1.000000</td>\n",
       "    </tr>\n",
       "    <tr>\n",
       "      <th>25%</th>\n",
       "      <td>196.650000</td>\n",
       "      <td>0.000000</td>\n",
       "      <td>0.000000</td>\n",
       "      <td>164.850000</td>\n",
       "      <td>0.000000</td>\n",
       "      <td>932.000000</td>\n",
       "      <td>724.300000</td>\n",
       "      <td>14.000000</td>\n",
       "    </tr>\n",
       "    <tr>\n",
       "      <th>50%</th>\n",
       "      <td>272.600000</td>\n",
       "      <td>20.000000</td>\n",
       "      <td>0.000000</td>\n",
       "      <td>185.000000</td>\n",
       "      <td>6.100000</td>\n",
       "      <td>968.000000</td>\n",
       "      <td>780.100000</td>\n",
       "      <td>28.000000</td>\n",
       "    </tr>\n",
       "    <tr>\n",
       "      <th>75%</th>\n",
       "      <td>350.000000</td>\n",
       "      <td>134.700000</td>\n",
       "      <td>118.200000</td>\n",
       "      <td>193.150000</td>\n",
       "      <td>10.300000</td>\n",
       "      <td>1028.900000</td>\n",
       "      <td>829.000000</td>\n",
       "      <td>56.000000</td>\n",
       "    </tr>\n",
       "    <tr>\n",
       "      <th>max</th>\n",
       "      <td>540.000000</td>\n",
       "      <td>359.400000</td>\n",
       "      <td>200.000000</td>\n",
       "      <td>246.900000</td>\n",
       "      <td>32.200000</td>\n",
       "      <td>1145.000000</td>\n",
       "      <td>992.600000</td>\n",
       "      <td>365.000000</td>\n",
       "    </tr>\n",
       "  </tbody>\n",
       "</table>\n",
       "</div>"
      ],
      "text/plain": [
       "       Cement (component 1)(kg in a m^3 mixture)  \\\n",
       "count                                 515.000000   \n",
       "mean                                  281.658447   \n",
       "std                                   103.945542   \n",
       "min                                   102.000000   \n",
       "25%                                   196.650000   \n",
       "50%                                   272.600000   \n",
       "75%                                   350.000000   \n",
       "max                                   540.000000   \n",
       "\n",
       "       Blast Furnace Slag (component 2)(kg in a m^3 mixture)  \\\n",
       "count                                         515.000000       \n",
       "mean                                           69.722718       \n",
       "std                                            84.101577       \n",
       "min                                             0.000000       \n",
       "25%                                             0.000000       \n",
       "50%                                            20.000000       \n",
       "75%                                           134.700000       \n",
       "max                                           359.400000       \n",
       "\n",
       "       Fly Ash (component 3)(kg in a m^3 mixture)  \\\n",
       "count                                  515.000000   \n",
       "mean                                    54.875146   \n",
       "std                                     63.284133   \n",
       "min                                      0.000000   \n",
       "25%                                      0.000000   \n",
       "50%                                      0.000000   \n",
       "75%                                    118.200000   \n",
       "max                                    200.000000   \n",
       "\n",
       "       Water  (component 4)(kg in a m^3 mixture)  \\\n",
       "count                                 515.000000   \n",
       "mean                                  181.965437   \n",
       "std                                    21.534283   \n",
       "min                                   121.800000   \n",
       "25%                                   164.850000   \n",
       "50%                                   185.000000   \n",
       "75%                                   193.150000   \n",
       "max                                   246.900000   \n",
       "\n",
       "       Superplasticizer (component 5)(kg in a m^3 mixture)  \\\n",
       "count                                         515.000000     \n",
       "mean                                            6.219806     \n",
       "std                                             6.072131     \n",
       "min                                             0.000000     \n",
       "25%                                             0.000000     \n",
       "50%                                             6.100000     \n",
       "75%                                            10.300000     \n",
       "max                                            32.200000     \n",
       "\n",
       "       Coarse Aggregate  (component 6)(kg in a m^3 mixture)  \\\n",
       "count                                         515.000000      \n",
       "mean                                          975.099029      \n",
       "std                                            76.466672      \n",
       "min                                           801.000000      \n",
       "25%                                           932.000000      \n",
       "50%                                           968.000000      \n",
       "75%                                          1028.900000      \n",
       "max                                          1145.000000      \n",
       "\n",
       "       Fine Aggregate (component 7)(kg in a m^3 mixture)   Age (day)  \n",
       "count                                         515.000000  515.000000  \n",
       "mean                                          772.991262   45.800000  \n",
       "std                                            80.156501   60.786806  \n",
       "min                                           594.000000    1.000000  \n",
       "25%                                           724.300000   14.000000  \n",
       "50%                                           780.100000   28.000000  \n",
       "75%                                           829.000000   56.000000  \n",
       "max                                           992.600000  365.000000  "
      ]
     },
     "execution_count": 20,
     "metadata": {},
     "output_type": "execute_result"
    }
   ],
   "source": [
    "train_total.describe()"
   ]
  },
  {
   "cell_type": "code",
   "execution_count": 21,
   "metadata": {},
   "outputs": [],
   "source": [
    "mean = train_total.mean(axis=0)"
   ]
  },
  {
   "cell_type": "code",
   "execution_count": 22,
   "metadata": {},
   "outputs": [],
   "source": [
    "train_total -= mean"
   ]
  },
  {
   "cell_type": "code",
   "execution_count": 23,
   "metadata": {},
   "outputs": [],
   "source": [
    "std = train_total.std(axis=0)"
   ]
  },
  {
   "cell_type": "code",
   "execution_count": 24,
   "metadata": {},
   "outputs": [],
   "source": [
    "train_total /= std"
   ]
  },
  {
   "cell_type": "code",
   "execution_count": 25,
   "metadata": {},
   "outputs": [],
   "source": [
    "test_total /= std"
   ]
  },
  {
   "cell_type": "code",
   "execution_count": 26,
   "metadata": {},
   "outputs": [],
   "source": [
    "val_total/=std"
   ]
  },
  {
   "cell_type": "code",
   "execution_count": 27,
   "metadata": {},
   "outputs": [
    {
     "data": {
      "text/plain": [
       "747    26.06\n",
       "718    10.35\n",
       "175    79.30\n",
       "828    74.99\n",
       "713     9.69\n",
       "       ...  \n",
       "354    30.45\n",
       "654    24.29\n",
       "460    49.99\n",
       "22      8.06\n",
       "374    16.28\n",
       "Name: Concrete compressive strength(MPa, megapascals) , Length: 515, dtype: float64"
      ]
     },
     "execution_count": 27,
     "metadata": {},
     "output_type": "execute_result"
    }
   ],
   "source": [
    "train_label"
   ]
  },
  {
   "cell_type": "code",
   "execution_count": null,
   "metadata": {},
   "outputs": [],
   "source": []
  },
  {
   "cell_type": "code",
   "execution_count": 28,
   "metadata": {},
   "outputs": [],
   "source": [
    "mean_label = train_label.mean()\n",
    "train_label -= mean_label\n",
    "std_label = train_label.std()\n",
    "train_label /= std_label\n",
    "test_label /= std_label\n",
    "val_label /=std_label"
   ]
  },
  {
   "cell_type": "code",
   "execution_count": 29,
   "metadata": {},
   "outputs": [
    {
     "data": {
      "text/plain": [
       "747   -0.588615\n",
       "718   -1.549133\n",
       "175    2.666507\n",
       "828    2.402991\n",
       "713   -1.589485\n",
       "         ...   \n",
       "354   -0.320208\n",
       "654   -0.696833\n",
       "460    0.874478\n",
       "22    -1.689144\n",
       "374   -1.186569\n",
       "Name: Concrete compressive strength(MPa, megapascals) , Length: 515, dtype: float64"
      ]
     },
     "execution_count": 29,
     "metadata": {},
     "output_type": "execute_result"
    }
   ],
   "source": [
    "train_label"
   ]
  },
  {
   "cell_type": "code",
   "execution_count": 30,
   "metadata": {},
   "outputs": [],
   "source": [
    "train = np.array(train_total.iloc[:])"
   ]
  },
  {
   "cell_type": "code",
   "execution_count": 31,
   "metadata": {},
   "outputs": [],
   "source": [
    "test = np.array(test_total.iloc[:])"
   ]
  },
  {
   "cell_type": "code",
   "execution_count": 32,
   "metadata": {},
   "outputs": [],
   "source": [
    "val = np.array(val_total.iloc[:])"
   ]
  },
  {
   "cell_type": "code",
   "execution_count": 33,
   "metadata": {},
   "outputs": [],
   "source": [
    "test_l = np.array(test_label.astype('float32'))"
   ]
  },
  {
   "cell_type": "code",
   "execution_count": 34,
   "metadata": {},
   "outputs": [],
   "source": [
    "train_l = np.array(train_label.astype('float32'))"
   ]
  },
  {
   "cell_type": "code",
   "execution_count": 35,
   "metadata": {},
   "outputs": [
    {
     "data": {
      "text/plain": [
       "(515,)"
      ]
     },
     "execution_count": 35,
     "metadata": {},
     "output_type": "execute_result"
    }
   ],
   "source": [
    "train_l.shape"
   ]
  },
  {
   "cell_type": "code",
   "execution_count": 36,
   "metadata": {},
   "outputs": [
    {
     "name": "stderr",
     "output_type": "stream",
     "text": [
      "C:\\Users\\DELL\\anaconda3\\lib\\site-packages\\tensorflow\\python\\framework\\dtypes.py:516: FutureWarning: Passing (type, 1) or '1type' as a synonym of type is deprecated; in a future version of numpy, it will be understood as (type, (1,)) / '(1,)type'.\n",
      "  _np_qint8 = np.dtype([(\"qint8\", np.int8, 1)])\n",
      "C:\\Users\\DELL\\anaconda3\\lib\\site-packages\\tensorflow\\python\\framework\\dtypes.py:517: FutureWarning: Passing (type, 1) or '1type' as a synonym of type is deprecated; in a future version of numpy, it will be understood as (type, (1,)) / '(1,)type'.\n",
      "  _np_quint8 = np.dtype([(\"quint8\", np.uint8, 1)])\n",
      "C:\\Users\\DELL\\anaconda3\\lib\\site-packages\\tensorflow\\python\\framework\\dtypes.py:518: FutureWarning: Passing (type, 1) or '1type' as a synonym of type is deprecated; in a future version of numpy, it will be understood as (type, (1,)) / '(1,)type'.\n",
      "  _np_qint16 = np.dtype([(\"qint16\", np.int16, 1)])\n",
      "C:\\Users\\DELL\\anaconda3\\lib\\site-packages\\tensorflow\\python\\framework\\dtypes.py:519: FutureWarning: Passing (type, 1) or '1type' as a synonym of type is deprecated; in a future version of numpy, it will be understood as (type, (1,)) / '(1,)type'.\n",
      "  _np_quint16 = np.dtype([(\"quint16\", np.uint16, 1)])\n",
      "C:\\Users\\DELL\\anaconda3\\lib\\site-packages\\tensorflow\\python\\framework\\dtypes.py:520: FutureWarning: Passing (type, 1) or '1type' as a synonym of type is deprecated; in a future version of numpy, it will be understood as (type, (1,)) / '(1,)type'.\n",
      "  _np_qint32 = np.dtype([(\"qint32\", np.int32, 1)])\n",
      "C:\\Users\\DELL\\anaconda3\\lib\\site-packages\\tensorflow\\python\\framework\\dtypes.py:525: FutureWarning: Passing (type, 1) or '1type' as a synonym of type is deprecated; in a future version of numpy, it will be understood as (type, (1,)) / '(1,)type'.\n",
      "  np_resource = np.dtype([(\"resource\", np.ubyte, 1)])\n",
      "C:\\Users\\DELL\\anaconda3\\lib\\site-packages\\tensorboard\\compat\\tensorflow_stub\\dtypes.py:541: FutureWarning: Passing (type, 1) or '1type' as a synonym of type is deprecated; in a future version of numpy, it will be understood as (type, (1,)) / '(1,)type'.\n",
      "  _np_qint8 = np.dtype([(\"qint8\", np.int8, 1)])\n",
      "C:\\Users\\DELL\\anaconda3\\lib\\site-packages\\tensorboard\\compat\\tensorflow_stub\\dtypes.py:542: FutureWarning: Passing (type, 1) or '1type' as a synonym of type is deprecated; in a future version of numpy, it will be understood as (type, (1,)) / '(1,)type'.\n",
      "  _np_quint8 = np.dtype([(\"quint8\", np.uint8, 1)])\n",
      "C:\\Users\\DELL\\anaconda3\\lib\\site-packages\\tensorboard\\compat\\tensorflow_stub\\dtypes.py:543: FutureWarning: Passing (type, 1) or '1type' as a synonym of type is deprecated; in a future version of numpy, it will be understood as (type, (1,)) / '(1,)type'.\n",
      "  _np_qint16 = np.dtype([(\"qint16\", np.int16, 1)])\n",
      "C:\\Users\\DELL\\anaconda3\\lib\\site-packages\\tensorboard\\compat\\tensorflow_stub\\dtypes.py:544: FutureWarning: Passing (type, 1) or '1type' as a synonym of type is deprecated; in a future version of numpy, it will be understood as (type, (1,)) / '(1,)type'.\n",
      "  _np_quint16 = np.dtype([(\"quint16\", np.uint16, 1)])\n",
      "C:\\Users\\DELL\\anaconda3\\lib\\site-packages\\tensorboard\\compat\\tensorflow_stub\\dtypes.py:545: FutureWarning: Passing (type, 1) or '1type' as a synonym of type is deprecated; in a future version of numpy, it will be understood as (type, (1,)) / '(1,)type'.\n",
      "  _np_qint32 = np.dtype([(\"qint32\", np.int32, 1)])\n",
      "C:\\Users\\DELL\\anaconda3\\lib\\site-packages\\tensorboard\\compat\\tensorflow_stub\\dtypes.py:550: FutureWarning: Passing (type, 1) or '1type' as a synonym of type is deprecated; in a future version of numpy, it will be understood as (type, (1,)) / '(1,)type'.\n",
      "  np_resource = np.dtype([(\"resource\", np.ubyte, 1)])\n"
     ]
    }
   ],
   "source": [
    "import tensorflow as tf"
   ]
  },
  {
   "cell_type": "code",
   "execution_count": 37,
   "metadata": {},
   "outputs": [
    {
     "name": "stderr",
     "output_type": "stream",
     "text": [
      "Using TensorFlow backend.\n"
     ]
    }
   ],
   "source": [
    "from keras import layers\n",
    "from keras import models\n",
    "def build_model():\n",
    "    model = models.Sequential([\n",
    "        layers.Dense(10, activation='tanh', input_shape = (train.shape[1],)),\n",
    "        layers.Dense(8, activation='relu'),\n",
    "        layers.Dense(6, activation='relu'),\n",
    "        layers.Dense(1)\n",
    "    ])\n",
    "    model.compile(optimizer = 'rmsprop', loss='mse' , metrics=['mae'])\n",
    "    return model"
   ]
  },
  {
   "cell_type": "code",
   "execution_count": 38,
   "metadata": {},
   "outputs": [],
   "source": [
    "model = build_model()"
   ]
  },
  {
   "cell_type": "code",
   "execution_count": 39,
   "metadata": {},
   "outputs": [
    {
     "name": "stdout",
     "output_type": "stream",
     "text": [
      "WARNING:tensorflow:From C:\\Users\\DELL\\anaconda3\\lib\\site-packages\\keras\\backend\\tensorflow_backend.py:422: The name tf.global_variables is deprecated. Please use tf.compat.v1.global_variables instead.\n",
      "\n",
      "Train on 515 samples, validate on 258 samples\n",
      "Epoch 1/100\n",
      "515/515 [==============================] - 0s 482us/step - loss: 1.0169 - mae: 0.8112 - val_loss: 4.1394 - val_mae: 1.7201\n",
      "Epoch 2/100\n",
      "515/515 [==============================] - 0s 52us/step - loss: 0.9701 - mae: 0.7941 - val_loss: 4.1674 - val_mae: 1.7283\n",
      "Epoch 3/100\n",
      "515/515 [==============================] - 0s 64us/step - loss: 0.9392 - mae: 0.7802 - val_loss: 4.2569 - val_mae: 1.7568\n",
      "Epoch 4/100\n",
      "515/515 [==============================] - 0s 66us/step - loss: 0.9083 - mae: 0.7664 - val_loss: 4.1696 - val_mae: 1.7362\n",
      "Epoch 5/100\n",
      "515/515 [==============================] - 0s 64us/step - loss: 0.8736 - mae: 0.7503 - val_loss: 3.9617 - val_mae: 1.6831\n",
      "Epoch 6/100\n",
      "515/515 [==============================] - 0s 74us/step - loss: 0.8221 - mae: 0.7288 - val_loss: 3.8738 - val_mae: 1.6710\n",
      "Epoch 7/100\n",
      "515/515 [==============================] - 0s 101us/step - loss: 0.7617 - mae: 0.7037 - val_loss: 3.9853 - val_mae: 1.7148\n",
      "Epoch 8/100\n",
      "515/515 [==============================] - 0s 68us/step - loss: 0.7023 - mae: 0.6760 - val_loss: 4.2663 - val_mae: 1.8089\n",
      "Epoch 9/100\n",
      "515/515 [==============================] - 0s 72us/step - loss: 0.6322 - mae: 0.6416 - val_loss: 4.4439 - val_mae: 1.8696\n",
      "Epoch 10/100\n",
      "515/515 [==============================] - 0s 76us/step - loss: 0.5623 - mae: 0.6056 - val_loss: 4.6327 - val_mae: 1.9281\n",
      "Epoch 11/100\n",
      "515/515 [==============================] - 0s 84us/step - loss: 0.5047 - mae: 0.5728 - val_loss: 5.3830 - val_mae: 2.1230\n",
      "Epoch 12/100\n",
      "515/515 [==============================] - 0s 85us/step - loss: 0.4554 - mae: 0.5432 - val_loss: 5.3631 - val_mae: 2.1212\n",
      "Epoch 13/100\n",
      "515/515 [==============================] - 0s 78us/step - loss: 0.4159 - mae: 0.5154 - val_loss: 5.8472 - val_mae: 2.2365\n",
      "Epoch 14/100\n",
      "515/515 [==============================] - 0s 78us/step - loss: 0.3851 - mae: 0.4928 - val_loss: 6.2502 - val_mae: 2.3262\n",
      "Epoch 15/100\n",
      "515/515 [==============================] - 0s 80us/step - loss: 0.3613 - mae: 0.4720 - val_loss: 6.2549 - val_mae: 2.3246\n",
      "Epoch 16/100\n",
      "515/515 [==============================] - 0s 78us/step - loss: 0.3454 - mae: 0.4590 - val_loss: 6.2324 - val_mae: 2.3168\n",
      "Epoch 17/100\n",
      "515/515 [==============================] - 0s 78us/step - loss: 0.3340 - mae: 0.4484 - val_loss: 6.4500 - val_mae: 2.3642\n",
      "Epoch 18/100\n",
      "515/515 [==============================] - 0s 76us/step - loss: 0.3222 - mae: 0.4402 - val_loss: 6.6697 - val_mae: 2.4115\n",
      "Epoch 19/100\n",
      "515/515 [==============================] - 0s 74us/step - loss: 0.3129 - mae: 0.4339 - val_loss: 6.7520 - val_mae: 2.4302\n",
      "Epoch 20/100\n",
      "515/515 [==============================] - 0s 82us/step - loss: 0.3052 - mae: 0.4280 - val_loss: 6.3720 - val_mae: 2.3454\n",
      "Epoch 21/100\n",
      "515/515 [==============================] - 0s 84us/step - loss: 0.2989 - mae: 0.4219 - val_loss: 6.4697 - val_mae: 2.3680\n",
      "Epoch 22/100\n",
      "515/515 [==============================] - 0s 74us/step - loss: 0.2927 - mae: 0.4171 - val_loss: 6.4438 - val_mae: 2.3627\n",
      "Epoch 23/100\n",
      "515/515 [==============================] - 0s 70us/step - loss: 0.2875 - mae: 0.4129 - val_loss: 6.4490 - val_mae: 2.3626\n",
      "Epoch 24/100\n",
      "515/515 [==============================] - 0s 76us/step - loss: 0.2819 - mae: 0.4090 - val_loss: 6.3715 - val_mae: 2.3457\n",
      "Epoch 25/100\n",
      "515/515 [==============================] - 0s 68us/step - loss: 0.2772 - mae: 0.4063 - val_loss: 6.4878 - val_mae: 2.3718\n",
      "Epoch 26/100\n",
      "515/515 [==============================] - 0s 68us/step - loss: 0.2708 - mae: 0.4011 - val_loss: 6.1933 - val_mae: 2.3059\n",
      "Epoch 27/100\n",
      "515/515 [==============================] - 0s 74us/step - loss: 0.2637 - mae: 0.3939 - val_loss: 6.4170 - val_mae: 2.3540\n",
      "Epoch 28/100\n",
      "515/515 [==============================] - 0s 74us/step - loss: 0.2580 - mae: 0.3892 - val_loss: 6.1413 - val_mae: 2.2906\n",
      "Epoch 29/100\n",
      "515/515 [==============================] - 0s 80us/step - loss: 0.2515 - mae: 0.3846 - val_loss: 6.3143 - val_mae: 2.3307\n",
      "Epoch 30/100\n",
      "515/515 [==============================] - 0s 84us/step - loss: 0.2444 - mae: 0.3784 - val_loss: 6.3765 - val_mae: 2.3403\n",
      "Epoch 31/100\n",
      "515/515 [==============================] - 0s 74us/step - loss: 0.2372 - mae: 0.3750 - val_loss: 6.2924 - val_mae: 2.3203\n",
      "Epoch 32/100\n",
      "515/515 [==============================] - 0s 82us/step - loss: 0.2290 - mae: 0.3671 - val_loss: 6.4019 - val_mae: 2.3400\n",
      "Epoch 33/100\n",
      "515/515 [==============================] - 0s 74us/step - loss: 0.2213 - mae: 0.3653 - val_loss: 6.5108 - val_mae: 2.3605\n",
      "Epoch 34/100\n",
      "515/515 [==============================] - 0s 68us/step - loss: 0.2137 - mae: 0.3577 - val_loss: 6.6863 - val_mae: 2.3954\n",
      "Epoch 35/100\n",
      "515/515 [==============================] - 0s 62us/step - loss: 0.2059 - mae: 0.3530 - val_loss: 6.2683 - val_mae: 2.3031\n",
      "Epoch 36/100\n",
      "515/515 [==============================] - 0s 56us/step - loss: 0.1985 - mae: 0.3479 - val_loss: 6.4650 - val_mae: 2.3446\n",
      "Epoch 37/100\n",
      "515/515 [==============================] - 0s 80us/step - loss: 0.1922 - mae: 0.3432 - val_loss: 6.5063 - val_mae: 2.3516\n",
      "Epoch 38/100\n",
      "515/515 [==============================] - 0s 70us/step - loss: 0.1856 - mae: 0.3391 - val_loss: 6.4224 - val_mae: 2.3336\n",
      "Epoch 39/100\n",
      "515/515 [==============================] - 0s 82us/step - loss: 0.1803 - mae: 0.3334 - val_loss: 6.5216 - val_mae: 2.3537\n",
      "Epoch 40/100\n",
      "515/515 [==============================] - 0s 78us/step - loss: 0.1731 - mae: 0.3271 - val_loss: 6.3164 - val_mae: 2.3086\n",
      "Epoch 41/100\n",
      "515/515 [==============================] - 0s 70us/step - loss: 0.1708 - mae: 0.3251 - val_loss: 6.5378 - val_mae: 2.3563\n",
      "Epoch 42/100\n",
      "515/515 [==============================] - 0s 82us/step - loss: 0.1650 - mae: 0.3198 - val_loss: 6.5877 - val_mae: 2.3640\n",
      "Epoch 43/100\n",
      "515/515 [==============================] - 0s 72us/step - loss: 0.1621 - mae: 0.3183 - val_loss: 6.4764 - val_mae: 2.3430\n",
      "Epoch 44/100\n",
      "515/515 [==============================] - 0s 72us/step - loss: 0.1592 - mae: 0.3164 - val_loss: 6.6906 - val_mae: 2.3880\n",
      "Epoch 45/100\n",
      "515/515 [==============================] - 0s 70us/step - loss: 0.1556 - mae: 0.3115 - val_loss: 6.5525 - val_mae: 2.3569\n",
      "Epoch 46/100\n",
      "515/515 [==============================] - 0s 84us/step - loss: 0.1525 - mae: 0.3094 - val_loss: 6.6763 - val_mae: 2.3851\n",
      "Epoch 47/100\n",
      "515/515 [==============================] - 0s 82us/step - loss: 0.1515 - mae: 0.3074 - val_loss: 6.6723 - val_mae: 2.3848\n",
      "Epoch 48/100\n",
      "515/515 [==============================] - 0s 66us/step - loss: 0.1493 - mae: 0.3058 - val_loss: 6.5179 - val_mae: 2.3533\n",
      "Epoch 49/100\n",
      "515/515 [==============================] - 0s 78us/step - loss: 0.1477 - mae: 0.3040 - val_loss: 6.2807 - val_mae: 2.3000\n",
      "Epoch 50/100\n",
      "515/515 [==============================] - 0s 76us/step - loss: 0.1457 - mae: 0.3021 - val_loss: 6.3648 - val_mae: 2.3184\n",
      "Epoch 51/100\n",
      "515/515 [==============================] - 0s 80us/step - loss: 0.1443 - mae: 0.3011 - val_loss: 6.5778 - val_mae: 2.3671\n",
      "Epoch 52/100\n",
      "515/515 [==============================] - 0s 72us/step - loss: 0.1423 - mae: 0.2973 - val_loss: 6.5216 - val_mae: 2.3512\n",
      "Epoch 53/100\n",
      "515/515 [==============================] - 0s 66us/step - loss: 0.1407 - mae: 0.2963 - val_loss: 6.5081 - val_mae: 2.3497\n",
      "Epoch 54/100\n",
      "515/515 [==============================] - 0s 58us/step - loss: 0.1412 - mae: 0.2958 - val_loss: 6.3652 - val_mae: 2.3186\n",
      "Epoch 55/100\n",
      "515/515 [==============================] - 0s 64us/step - loss: 0.1383 - mae: 0.2931 - val_loss: 6.2155 - val_mae: 2.2878\n",
      "Epoch 56/100\n",
      "515/515 [==============================] - 0s 56us/step - loss: 0.1380 - mae: 0.2904 - val_loss: 6.1795 - val_mae: 2.2780\n",
      "Epoch 57/100\n",
      "515/515 [==============================] - 0s 60us/step - loss: 0.1362 - mae: 0.2902 - val_loss: 6.1782 - val_mae: 2.2798\n",
      "Epoch 58/100\n",
      "515/515 [==============================] - 0s 62us/step - loss: 0.1350 - mae: 0.2887 - val_loss: 6.3901 - val_mae: 2.3304\n",
      "Epoch 59/100\n",
      "515/515 [==============================] - 0s 62us/step - loss: 0.1344 - mae: 0.2893 - val_loss: 6.1645 - val_mae: 2.2779\n"
     ]
    },
    {
     "name": "stdout",
     "output_type": "stream",
     "text": [
      "Epoch 60/100\n",
      "515/515 [==============================] - 0s 58us/step - loss: 0.1335 - mae: 0.2861 - val_loss: 6.2047 - val_mae: 2.2863\n",
      "Epoch 61/100\n",
      "515/515 [==============================] - 0s 62us/step - loss: 0.1316 - mae: 0.2847 - val_loss: 6.0807 - val_mae: 2.2588\n",
      "Epoch 62/100\n",
      "515/515 [==============================] - 0s 58us/step - loss: 0.1302 - mae: 0.2840 - val_loss: 6.3291 - val_mae: 2.3171\n",
      "Epoch 63/100\n",
      "515/515 [==============================] - 0s 70us/step - loss: 0.1286 - mae: 0.2823 - val_loss: 5.8766 - val_mae: 2.2134\n",
      "Epoch 64/100\n",
      "515/515 [==============================] - 0s 66us/step - loss: 0.1285 - mae: 0.2843 - val_loss: 5.9207 - val_mae: 2.2232\n",
      "Epoch 65/100\n",
      "515/515 [==============================] - 0s 54us/step - loss: 0.1280 - mae: 0.2813 - val_loss: 6.0880 - val_mae: 2.2619\n",
      "Epoch 66/100\n",
      "515/515 [==============================] - 0s 60us/step - loss: 0.1263 - mae: 0.2783 - val_loss: 6.1941 - val_mae: 2.2854\n",
      "Epoch 67/100\n",
      "515/515 [==============================] - 0s 58us/step - loss: 0.1269 - mae: 0.2809 - val_loss: 6.0650 - val_mae: 2.2582\n",
      "Epoch 68/100\n",
      "515/515 [==============================] - 0s 60us/step - loss: 0.1255 - mae: 0.2805 - val_loss: 6.1114 - val_mae: 2.2688\n",
      "Epoch 69/100\n",
      "515/515 [==============================] - 0s 56us/step - loss: 0.1252 - mae: 0.2784 - val_loss: 5.8690 - val_mae: 2.2134\n",
      "Epoch 70/100\n",
      "515/515 [==============================] - 0s 58us/step - loss: 0.1243 - mae: 0.2776 - val_loss: 5.9364 - val_mae: 2.2277\n",
      "Epoch 71/100\n",
      "515/515 [==============================] - 0s 56us/step - loss: 0.1233 - mae: 0.2763 - val_loss: 6.2517 - val_mae: 2.2988\n",
      "Epoch 72/100\n",
      "515/515 [==============================] - 0s 60us/step - loss: 0.1229 - mae: 0.2777 - val_loss: 6.3144 - val_mae: 2.3128\n",
      "Epoch 73/100\n",
      "515/515 [==============================] - 0s 56us/step - loss: 0.1226 - mae: 0.2766 - val_loss: 6.4084 - val_mae: 2.3346\n",
      "Epoch 74/100\n",
      "515/515 [==============================] - 0s 62us/step - loss: 0.1219 - mae: 0.2754 - val_loss: 5.9133 - val_mae: 2.2228\n",
      "Epoch 75/100\n",
      "515/515 [==============================] - 0s 54us/step - loss: 0.1219 - mae: 0.2746 - val_loss: 6.1823 - val_mae: 2.2829\n",
      "Epoch 76/100\n",
      "515/515 [==============================] - 0s 58us/step - loss: 0.1204 - mae: 0.2741 - val_loss: 6.3088 - val_mae: 2.3146\n",
      "Epoch 77/100\n",
      "515/515 [==============================] - 0s 56us/step - loss: 0.1204 - mae: 0.2736 - val_loss: 6.2739 - val_mae: 2.3044\n",
      "Epoch 78/100\n",
      "515/515 [==============================] - 0s 60us/step - loss: 0.1207 - mae: 0.2749 - val_loss: 6.6021 - val_mae: 2.3780\n",
      "Epoch 79/100\n",
      "515/515 [==============================] - 0s 56us/step - loss: 0.1193 - mae: 0.2735 - val_loss: 6.3129 - val_mae: 2.3113\n",
      "Epoch 80/100\n",
      "515/515 [==============================] - 0s 58us/step - loss: 0.1187 - mae: 0.2740 - val_loss: 6.2504 - val_mae: 2.2995\n",
      "Epoch 81/100\n",
      "515/515 [==============================] - 0s 58us/step - loss: 0.1190 - mae: 0.2728 - val_loss: 6.5371 - val_mae: 2.3674\n",
      "Epoch 82/100\n",
      "515/515 [==============================] - 0s 64us/step - loss: 0.1187 - mae: 0.2727 - val_loss: 6.5237 - val_mae: 2.3645\n",
      "Epoch 83/100\n",
      "515/515 [==============================] - 0s 52us/step - loss: 0.1164 - mae: 0.2698 - val_loss: 6.3092 - val_mae: 2.3152\n",
      "Epoch 84/100\n",
      "515/515 [==============================] - 0s 60us/step - loss: 0.1171 - mae: 0.2696 - val_loss: 6.5105 - val_mae: 2.3595\n",
      "Epoch 85/100\n",
      "515/515 [==============================] - 0s 54us/step - loss: 0.1167 - mae: 0.2682 - val_loss: 6.5453 - val_mae: 2.3677\n",
      "Epoch 86/100\n",
      "515/515 [==============================] - 0s 58us/step - loss: 0.1161 - mae: 0.2669 - val_loss: 6.4295 - val_mae: 2.3445\n",
      "Epoch 87/100\n",
      "515/515 [==============================] - 0s 78us/step - loss: 0.1144 - mae: 0.2688 - val_loss: 6.1079 - val_mae: 2.2707\n",
      "Epoch 88/100\n",
      "515/515 [==============================] - 0s 62us/step - loss: 0.1159 - mae: 0.2691 - val_loss: 6.5255 - val_mae: 2.3661\n",
      "Epoch 89/100\n",
      "515/515 [==============================] - 0s 60us/step - loss: 0.1137 - mae: 0.2670 - val_loss: 6.5795 - val_mae: 2.3786\n",
      "Epoch 90/100\n",
      "515/515 [==============================] - 0s 64us/step - loss: 0.1134 - mae: 0.2662 - val_loss: 6.3568 - val_mae: 2.3305\n",
      "Epoch 91/100\n",
      "515/515 [==============================] - 0s 62us/step - loss: 0.1138 - mae: 0.2669 - val_loss: 6.5782 - val_mae: 2.3784\n",
      "Epoch 92/100\n",
      "515/515 [==============================] - 0s 56us/step - loss: 0.1140 - mae: 0.2673 - val_loss: 6.4058 - val_mae: 2.3422\n",
      "Epoch 93/100\n",
      "515/515 [==============================] - 0s 60us/step - loss: 0.1130 - mae: 0.2653 - val_loss: 6.3807 - val_mae: 2.3358\n",
      "Epoch 94/100\n",
      "515/515 [==============================] - 0s 58us/step - loss: 0.1123 - mae: 0.2653 - val_loss: 6.3701 - val_mae: 2.3356\n",
      "Epoch 95/100\n",
      "515/515 [==============================] - 0s 62us/step - loss: 0.1118 - mae: 0.2631 - val_loss: 6.5735 - val_mae: 2.3795\n",
      "Epoch 96/100\n",
      "515/515 [==============================] - 0s 56us/step - loss: 0.1113 - mae: 0.2643 - val_loss: 6.5244 - val_mae: 2.3714\n",
      "Epoch 97/100\n",
      "515/515 [==============================] - 0s 62us/step - loss: 0.1105 - mae: 0.2640 - val_loss: 6.5548 - val_mae: 2.3762\n",
      "Epoch 98/100\n",
      "515/515 [==============================] - 0s 56us/step - loss: 0.1092 - mae: 0.2612 - val_loss: 6.4584 - val_mae: 2.3543\n",
      "Epoch 99/100\n",
      "515/515 [==============================] - 0s 60us/step - loss: 0.1099 - mae: 0.2625 - val_loss: 6.6140 - val_mae: 2.3879\n",
      "Epoch 100/100\n",
      "515/515 [==============================] - 0s 60us/step - loss: 0.1101 - mae: 0.2616 - val_loss: 6.6730 - val_mae: 2.3992\n"
     ]
    },
    {
     "data": {
      "text/plain": [
       "<keras.callbacks.callbacks.History at 0xbbf8daba88>"
      ]
     },
     "execution_count": 39,
     "metadata": {},
     "output_type": "execute_result"
    }
   ],
   "source": [
    "model.fit(train,train_label, epochs=100, validation_data=(val,val_label))"
   ]
  },
  {
   "cell_type": "code",
   "execution_count": 40,
   "metadata": {},
   "outputs": [
    {
     "data": {
      "text/plain": [
       "(257, 8)"
      ]
     },
     "execution_count": 40,
     "metadata": {},
     "output_type": "execute_result"
    }
   ],
   "source": [
    "test_total.shape"
   ]
  },
  {
   "cell_type": "code",
   "execution_count": 41,
   "metadata": {},
   "outputs": [],
   "source": [
    "x = model.predict(test)"
   ]
  },
  {
   "cell_type": "code",
   "execution_count": 42,
   "metadata": {},
   "outputs": [],
   "source": [
    "# c = model.predict(test_total[1].reshape(1,8))"
   ]
  },
  {
   "cell_type": "code",
   "execution_count": 43,
   "metadata": {
    "scrolled": false
   },
   "outputs": [
    {
     "data": {
      "text/plain": [
       "array([19.064564], dtype=float32)"
      ]
     },
     "execution_count": 43,
     "metadata": {},
     "output_type": "execute_result"
    }
   ],
   "source": [
    "x[-1]*std_label + mean_label"
   ]
  },
  {
   "cell_type": "code",
   "execution_count": 44,
   "metadata": {},
   "outputs": [
    {
     "data": {
      "text/plain": [
       "0       115.677243\n",
       "7        72.137243\n",
       "24       88.207243\n",
       "26       76.837243\n",
       "29       74.287243\n",
       "           ...    \n",
       "1005     69.087243\n",
       "1008     70.997243\n",
       "1012     96.927243\n",
       "1014     68.997243\n",
       "1021     67.567243\n",
       "Name: Concrete compressive strength(MPa, megapascals) , Length: 257, dtype: float64"
      ]
     },
     "execution_count": 44,
     "metadata": {},
     "output_type": "execute_result"
    }
   ],
   "source": [
    "test_label*std_label + mean_label"
   ]
  },
  {
   "cell_type": "code",
   "execution_count": null,
   "metadata": {},
   "outputs": [],
   "source": []
  }
 ],
 "metadata": {
  "kernelspec": {
   "display_name": "Python 3.7.6 64-bit (conda)",
   "language": "python",
   "name": "python37664bitconda6b92899776a343de98f1606e3918c2ba"
  },
  "language_info": {
   "codemirror_mode": {
    "name": "ipython",
    "version": 3
   },
   "file_extension": ".py",
   "mimetype": "text/x-python",
   "name": "python",
   "nbconvert_exporter": "python",
   "pygments_lexer": "ipython3",
   "version": "3.7.6"
  }
 },
 "nbformat": 4,
 "nbformat_minor": 4
}
