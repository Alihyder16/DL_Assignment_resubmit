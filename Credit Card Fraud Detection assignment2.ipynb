{
 "cells": [
  {
   "cell_type": "code",
   "execution_count": 1,
   "metadata": {},
   "outputs": [],
   "source": [
    "import pandas as pd \n",
    "import numpy as np"
   ]
  },
  {
   "cell_type": "code",
   "execution_count": 4,
   "metadata": {},
   "outputs": [],
   "source": [
    "card = pd.read_csv(\"creditcard.csv\")"
   ]
  },
  {
   "cell_type": "code",
   "execution_count": 5,
   "metadata": {},
   "outputs": [
    {
     "data": {
      "text/html": [
       "<div>\n",
       "<style scoped>\n",
       "    .dataframe tbody tr th:only-of-type {\n",
       "        vertical-align: middle;\n",
       "    }\n",
       "\n",
       "    .dataframe tbody tr th {\n",
       "        vertical-align: top;\n",
       "    }\n",
       "\n",
       "    .dataframe thead th {\n",
       "        text-align: right;\n",
       "    }\n",
       "</style>\n",
       "<table border=\"1\" class=\"dataframe\">\n",
       "  <thead>\n",
       "    <tr style=\"text-align: right;\">\n",
       "      <th></th>\n",
       "      <th>Time</th>\n",
       "      <th>V1</th>\n",
       "      <th>V2</th>\n",
       "      <th>V3</th>\n",
       "      <th>V4</th>\n",
       "      <th>V5</th>\n",
       "      <th>V6</th>\n",
       "      <th>V7</th>\n",
       "      <th>V8</th>\n",
       "      <th>V9</th>\n",
       "      <th>...</th>\n",
       "      <th>V21</th>\n",
       "      <th>V22</th>\n",
       "      <th>V23</th>\n",
       "      <th>V24</th>\n",
       "      <th>V25</th>\n",
       "      <th>V26</th>\n",
       "      <th>V27</th>\n",
       "      <th>V28</th>\n",
       "      <th>Amount</th>\n",
       "      <th>Class</th>\n",
       "    </tr>\n",
       "  </thead>\n",
       "  <tbody>\n",
       "    <tr>\n",
       "      <th>0</th>\n",
       "      <td>0.0</td>\n",
       "      <td>-1.359807</td>\n",
       "      <td>-0.072781</td>\n",
       "      <td>2.536347</td>\n",
       "      <td>1.378155</td>\n",
       "      <td>-0.338321</td>\n",
       "      <td>0.462388</td>\n",
       "      <td>0.239599</td>\n",
       "      <td>0.098698</td>\n",
       "      <td>0.363787</td>\n",
       "      <td>...</td>\n",
       "      <td>-0.018307</td>\n",
       "      <td>0.277838</td>\n",
       "      <td>-0.110474</td>\n",
       "      <td>0.066928</td>\n",
       "      <td>0.128539</td>\n",
       "      <td>-0.189115</td>\n",
       "      <td>0.133558</td>\n",
       "      <td>-0.021053</td>\n",
       "      <td>149.62</td>\n",
       "      <td>0</td>\n",
       "    </tr>\n",
       "    <tr>\n",
       "      <th>1</th>\n",
       "      <td>0.0</td>\n",
       "      <td>1.191857</td>\n",
       "      <td>0.266151</td>\n",
       "      <td>0.166480</td>\n",
       "      <td>0.448154</td>\n",
       "      <td>0.060018</td>\n",
       "      <td>-0.082361</td>\n",
       "      <td>-0.078803</td>\n",
       "      <td>0.085102</td>\n",
       "      <td>-0.255425</td>\n",
       "      <td>...</td>\n",
       "      <td>-0.225775</td>\n",
       "      <td>-0.638672</td>\n",
       "      <td>0.101288</td>\n",
       "      <td>-0.339846</td>\n",
       "      <td>0.167170</td>\n",
       "      <td>0.125895</td>\n",
       "      <td>-0.008983</td>\n",
       "      <td>0.014724</td>\n",
       "      <td>2.69</td>\n",
       "      <td>0</td>\n",
       "    </tr>\n",
       "    <tr>\n",
       "      <th>2</th>\n",
       "      <td>1.0</td>\n",
       "      <td>-1.358354</td>\n",
       "      <td>-1.340163</td>\n",
       "      <td>1.773209</td>\n",
       "      <td>0.379780</td>\n",
       "      <td>-0.503198</td>\n",
       "      <td>1.800499</td>\n",
       "      <td>0.791461</td>\n",
       "      <td>0.247676</td>\n",
       "      <td>-1.514654</td>\n",
       "      <td>...</td>\n",
       "      <td>0.247998</td>\n",
       "      <td>0.771679</td>\n",
       "      <td>0.909412</td>\n",
       "      <td>-0.689281</td>\n",
       "      <td>-0.327642</td>\n",
       "      <td>-0.139097</td>\n",
       "      <td>-0.055353</td>\n",
       "      <td>-0.059752</td>\n",
       "      <td>378.66</td>\n",
       "      <td>0</td>\n",
       "    </tr>\n",
       "    <tr>\n",
       "      <th>3</th>\n",
       "      <td>1.0</td>\n",
       "      <td>-0.966272</td>\n",
       "      <td>-0.185226</td>\n",
       "      <td>1.792993</td>\n",
       "      <td>-0.863291</td>\n",
       "      <td>-0.010309</td>\n",
       "      <td>1.247203</td>\n",
       "      <td>0.237609</td>\n",
       "      <td>0.377436</td>\n",
       "      <td>-1.387024</td>\n",
       "      <td>...</td>\n",
       "      <td>-0.108300</td>\n",
       "      <td>0.005274</td>\n",
       "      <td>-0.190321</td>\n",
       "      <td>-1.175575</td>\n",
       "      <td>0.647376</td>\n",
       "      <td>-0.221929</td>\n",
       "      <td>0.062723</td>\n",
       "      <td>0.061458</td>\n",
       "      <td>123.50</td>\n",
       "      <td>0</td>\n",
       "    </tr>\n",
       "    <tr>\n",
       "      <th>4</th>\n",
       "      <td>2.0</td>\n",
       "      <td>-1.158233</td>\n",
       "      <td>0.877737</td>\n",
       "      <td>1.548718</td>\n",
       "      <td>0.403034</td>\n",
       "      <td>-0.407193</td>\n",
       "      <td>0.095921</td>\n",
       "      <td>0.592941</td>\n",
       "      <td>-0.270533</td>\n",
       "      <td>0.817739</td>\n",
       "      <td>...</td>\n",
       "      <td>-0.009431</td>\n",
       "      <td>0.798278</td>\n",
       "      <td>-0.137458</td>\n",
       "      <td>0.141267</td>\n",
       "      <td>-0.206010</td>\n",
       "      <td>0.502292</td>\n",
       "      <td>0.219422</td>\n",
       "      <td>0.215153</td>\n",
       "      <td>69.99</td>\n",
       "      <td>0</td>\n",
       "    </tr>\n",
       "  </tbody>\n",
       "</table>\n",
       "<p>5 rows × 31 columns</p>\n",
       "</div>"
      ],
      "text/plain": [
       "   Time        V1        V2        V3        V4        V5        V6        V7  \\\n",
       "0   0.0 -1.359807 -0.072781  2.536347  1.378155 -0.338321  0.462388  0.239599   \n",
       "1   0.0  1.191857  0.266151  0.166480  0.448154  0.060018 -0.082361 -0.078803   \n",
       "2   1.0 -1.358354 -1.340163  1.773209  0.379780 -0.503198  1.800499  0.791461   \n",
       "3   1.0 -0.966272 -0.185226  1.792993 -0.863291 -0.010309  1.247203  0.237609   \n",
       "4   2.0 -1.158233  0.877737  1.548718  0.403034 -0.407193  0.095921  0.592941   \n",
       "\n",
       "         V8        V9  ...       V21       V22       V23       V24       V25  \\\n",
       "0  0.098698  0.363787  ... -0.018307  0.277838 -0.110474  0.066928  0.128539   \n",
       "1  0.085102 -0.255425  ... -0.225775 -0.638672  0.101288 -0.339846  0.167170   \n",
       "2  0.247676 -1.514654  ...  0.247998  0.771679  0.909412 -0.689281 -0.327642   \n",
       "3  0.377436 -1.387024  ... -0.108300  0.005274 -0.190321 -1.175575  0.647376   \n",
       "4 -0.270533  0.817739  ... -0.009431  0.798278 -0.137458  0.141267 -0.206010   \n",
       "\n",
       "        V26       V27       V28  Amount  Class  \n",
       "0 -0.189115  0.133558 -0.021053  149.62      0  \n",
       "1  0.125895 -0.008983  0.014724    2.69      0  \n",
       "2 -0.139097 -0.055353 -0.059752  378.66      0  \n",
       "3 -0.221929  0.062723  0.061458  123.50      0  \n",
       "4  0.502292  0.219422  0.215153   69.99      0  \n",
       "\n",
       "[5 rows x 31 columns]"
      ]
     },
     "execution_count": 5,
     "metadata": {},
     "output_type": "execute_result"
    }
   ],
   "source": [
    "card.head()"
   ]
  },
  {
   "cell_type": "code",
   "execution_count": 6,
   "metadata": {},
   "outputs": [],
   "source": [
    "train = card.sample(frac=0.5, random_state=1)"
   ]
  },
  {
   "cell_type": "code",
   "execution_count": 7,
   "metadata": {},
   "outputs": [],
   "source": [
    "card = card.drop(train.index)"
   ]
  },
  {
   "cell_type": "code",
   "execution_count": 8,
   "metadata": {},
   "outputs": [],
   "source": [
    "val_data = card.sample(frac=0.4, random_state=1)"
   ]
  },
  {
   "cell_type": "code",
   "execution_count": 9,
   "metadata": {},
   "outputs": [],
   "source": [
    "test = card.drop(val_data.index)"
   ]
  },
  {
   "cell_type": "code",
   "execution_count": 10,
   "metadata": {},
   "outputs": [],
   "source": [
    "train_labels = train['Class']\n",
    "val_labels = val_data['Class']\n",
    "test_labels = test['Class']"
   ]
  },
  {
   "cell_type": "code",
   "execution_count": 11,
   "metadata": {},
   "outputs": [],
   "source": [
    "train = train.drop(columns='Class')\n",
    "test = test.drop(columns='Class')\n",
    "val = val_data.drop(columns='Class')"
   ]
  },
  {
   "cell_type": "code",
   "execution_count": 12,
   "metadata": {},
   "outputs": [],
   "source": [
    "mean = train.mean()\n",
    "train -= mean\n",
    "std = train.std()\n",
    "train /= std\n",
    "val/= std\n",
    "test /= std"
   ]
  },
  {
   "cell_type": "code",
   "execution_count": 13,
   "metadata": {},
   "outputs": [
    {
     "name": "stderr",
     "output_type": "stream",
     "text": [
      "Using TensorFlow backend.\n",
      "C:\\Users\\DELL\\anaconda3\\lib\\site-packages\\tensorflow\\python\\framework\\dtypes.py:516: FutureWarning: Passing (type, 1) or '1type' as a synonym of type is deprecated; in a future version of numpy, it will be understood as (type, (1,)) / '(1,)type'.\n",
      "  _np_qint8 = np.dtype([(\"qint8\", np.int8, 1)])\n",
      "C:\\Users\\DELL\\anaconda3\\lib\\site-packages\\tensorflow\\python\\framework\\dtypes.py:517: FutureWarning: Passing (type, 1) or '1type' as a synonym of type is deprecated; in a future version of numpy, it will be understood as (type, (1,)) / '(1,)type'.\n",
      "  _np_quint8 = np.dtype([(\"quint8\", np.uint8, 1)])\n",
      "C:\\Users\\DELL\\anaconda3\\lib\\site-packages\\tensorflow\\python\\framework\\dtypes.py:518: FutureWarning: Passing (type, 1) or '1type' as a synonym of type is deprecated; in a future version of numpy, it will be understood as (type, (1,)) / '(1,)type'.\n",
      "  _np_qint16 = np.dtype([(\"qint16\", np.int16, 1)])\n",
      "C:\\Users\\DELL\\anaconda3\\lib\\site-packages\\tensorflow\\python\\framework\\dtypes.py:519: FutureWarning: Passing (type, 1) or '1type' as a synonym of type is deprecated; in a future version of numpy, it will be understood as (type, (1,)) / '(1,)type'.\n",
      "  _np_quint16 = np.dtype([(\"quint16\", np.uint16, 1)])\n",
      "C:\\Users\\DELL\\anaconda3\\lib\\site-packages\\tensorflow\\python\\framework\\dtypes.py:520: FutureWarning: Passing (type, 1) or '1type' as a synonym of type is deprecated; in a future version of numpy, it will be understood as (type, (1,)) / '(1,)type'.\n",
      "  _np_qint32 = np.dtype([(\"qint32\", np.int32, 1)])\n",
      "C:\\Users\\DELL\\anaconda3\\lib\\site-packages\\tensorflow\\python\\framework\\dtypes.py:525: FutureWarning: Passing (type, 1) or '1type' as a synonym of type is deprecated; in a future version of numpy, it will be understood as (type, (1,)) / '(1,)type'.\n",
      "  np_resource = np.dtype([(\"resource\", np.ubyte, 1)])\n",
      "C:\\Users\\DELL\\anaconda3\\lib\\site-packages\\tensorboard\\compat\\tensorflow_stub\\dtypes.py:541: FutureWarning: Passing (type, 1) or '1type' as a synonym of type is deprecated; in a future version of numpy, it will be understood as (type, (1,)) / '(1,)type'.\n",
      "  _np_qint8 = np.dtype([(\"qint8\", np.int8, 1)])\n",
      "C:\\Users\\DELL\\anaconda3\\lib\\site-packages\\tensorboard\\compat\\tensorflow_stub\\dtypes.py:542: FutureWarning: Passing (type, 1) or '1type' as a synonym of type is deprecated; in a future version of numpy, it will be understood as (type, (1,)) / '(1,)type'.\n",
      "  _np_quint8 = np.dtype([(\"quint8\", np.uint8, 1)])\n",
      "C:\\Users\\DELL\\anaconda3\\lib\\site-packages\\tensorboard\\compat\\tensorflow_stub\\dtypes.py:543: FutureWarning: Passing (type, 1) or '1type' as a synonym of type is deprecated; in a future version of numpy, it will be understood as (type, (1,)) / '(1,)type'.\n",
      "  _np_qint16 = np.dtype([(\"qint16\", np.int16, 1)])\n",
      "C:\\Users\\DELL\\anaconda3\\lib\\site-packages\\tensorboard\\compat\\tensorflow_stub\\dtypes.py:544: FutureWarning: Passing (type, 1) or '1type' as a synonym of type is deprecated; in a future version of numpy, it will be understood as (type, (1,)) / '(1,)type'.\n",
      "  _np_quint16 = np.dtype([(\"quint16\", np.uint16, 1)])\n",
      "C:\\Users\\DELL\\anaconda3\\lib\\site-packages\\tensorboard\\compat\\tensorflow_stub\\dtypes.py:545: FutureWarning: Passing (type, 1) or '1type' as a synonym of type is deprecated; in a future version of numpy, it will be understood as (type, (1,)) / '(1,)type'.\n",
      "  _np_qint32 = np.dtype([(\"qint32\", np.int32, 1)])\n",
      "C:\\Users\\DELL\\anaconda3\\lib\\site-packages\\tensorboard\\compat\\tensorflow_stub\\dtypes.py:550: FutureWarning: Passing (type, 1) or '1type' as a synonym of type is deprecated; in a future version of numpy, it will be understood as (type, (1,)) / '(1,)type'.\n",
      "  np_resource = np.dtype([(\"resource\", np.ubyte, 1)])\n"
     ]
    }
   ],
   "source": [
    "import keras \n",
    "import tensorflow as tf"
   ]
  },
  {
   "cell_type": "code",
   "execution_count": 14,
   "metadata": {},
   "outputs": [],
   "source": [
    "from keras import models, layers\n",
    "model = models.Sequential([\n",
    "    (layers.Dense(10, activation='relu', input_shape=(train.shape[1],))),\n",
    "#     (layers.Dropout(0.5)),\n",
    "    (layers.Dense(8, activation='relu')),\n",
    "#     (layers.Dropout(0.5)),\n",
    "    (layers.Dense(6, activation='relu')),\n",
    "#     (layers.Dropout(0.5)),\n",
    "    (layers.Dense(1,  activation = 'sigmoid'))\n",
    "])\n"
   ]
  },
  {
   "cell_type": "code",
   "execution_count": 15,
   "metadata": {},
   "outputs": [
    {
     "name": "stdout",
     "output_type": "stream",
     "text": [
      "WARNING:tensorflow:From C:\\Users\\DELL\\anaconda3\\lib\\site-packages\\tensorflow\\python\\ops\\nn_impl.py:180: add_dispatch_support.<locals>.wrapper (from tensorflow.python.ops.array_ops) is deprecated and will be removed in a future version.\n",
      "Instructions for updating:\n",
      "Use tf.where in 2.0, which has the same broadcast rule as np.where\n",
      "WARNING:tensorflow:From C:\\Users\\DELL\\anaconda3\\lib\\site-packages\\keras\\backend\\tensorflow_backend.py:422: The name tf.global_variables is deprecated. Please use tf.compat.v1.global_variables instead.\n",
      "\n",
      "Train on 142404 samples, validate on 56961 samples\n",
      "Epoch 1/100\n",
      "142404/142404 [==============================] - 15s 107us/step - loss: 0.0148 - accuracy: 0.9984 - val_loss: 0.0052 - val_accuracy: 0.9991\n",
      "Epoch 2/100\n",
      "142404/142404 [==============================] - 16s 113us/step - loss: 0.0038 - accuracy: 0.9994 - val_loss: 0.0043 - val_accuracy: 0.9992\n",
      "Epoch 3/100\n",
      "142404/142404 [==============================] - 18s 123us/step - loss: 0.0032 - accuracy: 0.9994 - val_loss: 0.0043 - val_accuracy: 0.9992\n",
      "Epoch 4/100\n",
      "142404/142404 [==============================] - 17s 118us/step - loss: 0.0031 - accuracy: 0.9995 - val_loss: 0.0034 - val_accuracy: 0.9992\n",
      "Epoch 5/100\n",
      "142404/142404 [==============================] - 15s 105us/step - loss: 0.0028 - accuracy: 0.9994 - val_loss: 0.0040 - val_accuracy: 0.9993\n",
      "Epoch 6/100\n",
      "142404/142404 [==============================] - 20s 138us/step - loss: 0.0026 - accuracy: 0.9994 - val_loss: 0.0034 - val_accuracy: 0.9993\n",
      "Epoch 7/100\n",
      "142404/142404 [==============================] - 9s 61us/step - loss: 0.0026 - accuracy: 0.9994 - val_loss: 0.0035 - val_accuracy: 0.9993\n",
      "Epoch 8/100\n",
      "142404/142404 [==============================] - 6s 44us/step - loss: 0.0025 - accuracy: 0.9994 - val_loss: 0.0035 - val_accuracy: 0.9993\n",
      "Epoch 9/100\n",
      "142404/142404 [==============================] - 19s 131us/step - loss: 0.0023 - accuracy: 0.9994 - val_loss: 0.0034 - val_accuracy: 0.9992\n",
      "Epoch 10/100\n",
      "142404/142404 [==============================] - 19s 137us/step - loss: 0.0023 - accuracy: 0.9995 - val_loss: 0.0039 - val_accuracy: 0.9993\n",
      "Epoch 11/100\n",
      "142404/142404 [==============================] - 21s 147us/step - loss: 0.0023 - accuracy: 0.9995 - val_loss: 0.0037 - val_accuracy: 0.9993\n",
      "Epoch 12/100\n",
      "142404/142404 [==============================] - 20s 142us/step - loss: 0.0022 - accuracy: 0.9995 - val_loss: 0.0040 - val_accuracy: 0.9993\n",
      "Epoch 13/100\n",
      "142404/142404 [==============================] - 21s 146us/step - loss: 0.0022 - accuracy: 0.9995 - val_loss: 0.0036 - val_accuracy: 0.9993\n",
      "Epoch 14/100\n",
      "142404/142404 [==============================] - 14s 96us/step - loss: 0.0021 - accuracy: 0.9995 - val_loss: 0.0049 - val_accuracy: 0.9993\n",
      "Epoch 15/100\n",
      "142404/142404 [==============================] - 20s 139us/step - loss: 0.0021 - accuracy: 0.9995 - val_loss: 0.0040 - val_accuracy: 0.9993\n",
      "Epoch 16/100\n",
      "142404/142404 [==============================] - 18s 128us/step - loss: 0.0021 - accuracy: 0.9995 - val_loss: 0.0042 - val_accuracy: 0.9992\n",
      "Epoch 17/100\n",
      "142404/142404 [==============================] - 21s 144us/step - loss: 0.0021 - accuracy: 0.9995 - val_loss: 0.0039 - val_accuracy: 0.9993\n",
      "Epoch 18/100\n",
      "142404/142404 [==============================] - 18s 126us/step - loss: 0.0020 - accuracy: 0.9995 - val_loss: 0.0043 - val_accuracy: 0.9993\n",
      "Epoch 19/100\n",
      "142404/142404 [==============================] - 14s 99us/step - loss: 0.0019 - accuracy: 0.9995 - val_loss: 0.0041 - val_accuracy: 0.9993\n",
      "Epoch 20/100\n",
      "142404/142404 [==============================] - 20s 144us/step - loss: 0.0020 - accuracy: 0.9996 - val_loss: 0.0045 - val_accuracy: 0.9992\n",
      "Epoch 21/100\n",
      "142404/142404 [==============================] - 15s 105us/step - loss: 0.0020 - accuracy: 0.9995 - val_loss: 0.0041 - val_accuracy: 0.9993\n",
      "Epoch 22/100\n",
      "142404/142404 [==============================] - 11s 79us/step - loss: 0.0018 - accuracy: 0.9996 - val_loss: 0.0046 - val_accuracy: 0.9992\n",
      "Epoch 23/100\n",
      "142404/142404 [==============================] - 19s 133us/step - loss: 0.0018 - accuracy: 0.9996 - val_loss: 0.0048 - val_accuracy: 0.9992\n",
      "Epoch 24/100\n",
      "142404/142404 [==============================] - 20s 141us/step - loss: 0.0018 - accuracy: 0.9996 - val_loss: 0.0049 - val_accuracy: 0.9993\n",
      "Epoch 25/100\n",
      "142404/142404 [==============================] - 20s 142us/step - loss: 0.0017 - accuracy: 0.9996 - val_loss: 0.0045 - val_accuracy: 0.9993\n",
      "Epoch 26/100\n",
      "142404/142404 [==============================] - 21s 146us/step - loss: 0.0016 - accuracy: 0.9996 - val_loss: 0.0048 - val_accuracy: 0.9991\n",
      "Epoch 27/100\n",
      "142404/142404 [==============================] - 15s 105us/step - loss: 0.0016 - accuracy: 0.9996 - val_loss: 0.0060 - val_accuracy: 0.9992\n",
      "Epoch 28/100\n",
      "142404/142404 [==============================] - 8s 58us/step - loss: 0.0016 - accuracy: 0.9996 - val_loss: 0.0056 - val_accuracy: 0.9993\n",
      "Epoch 29/100\n",
      "142404/142404 [==============================] - 12s 82us/step - loss: 0.0016 - accuracy: 0.9996 - val_loss: 0.0046 - val_accuracy: 0.9992\n",
      "Epoch 30/100\n",
      "142404/142404 [==============================] - 9s 63us/step - loss: 0.0016 - accuracy: 0.9996 - val_loss: 0.0053 - val_accuracy: 0.9992\n",
      "Epoch 31/100\n",
      "142404/142404 [==============================] - 8s 53us/step - loss: 0.0015 - accuracy: 0.9996 - val_loss: 0.0055 - val_accuracy: 0.9993\n",
      "Epoch 32/100\n",
      "142404/142404 [==============================] - 7s 51us/step - loss: 0.0016 - accuracy: 0.9996 - val_loss: 0.0052 - val_accuracy: 0.9993\n",
      "Epoch 33/100\n",
      "142404/142404 [==============================] - 7s 51us/step - loss: 0.0016 - accuracy: 0.9996 - val_loss: 0.0049 - val_accuracy: 0.9993\n",
      "Epoch 34/100\n",
      "142404/142404 [==============================] - 17s 118us/step - loss: 0.0016 - accuracy: 0.9996 - val_loss: 0.0047 - val_accuracy: 0.9992\n",
      "Epoch 35/100\n",
      "142404/142404 [==============================] - 16s 109us/step - loss: 0.0015 - accuracy: 0.9996 - val_loss: 0.0052 - val_accuracy: 0.9992\n",
      "Epoch 36/100\n",
      "142404/142404 [==============================] - 21s 151us/step - loss: 0.0015 - accuracy: 0.9996 - val_loss: 0.0060 - val_accuracy: 0.9993\n",
      "Epoch 37/100\n",
      "142404/142404 [==============================] - 15s 107us/step - loss: 0.0014 - accuracy: 0.9996 - val_loss: 0.0055 - val_accuracy: 0.9992\n",
      "Epoch 38/100\n",
      "142404/142404 [==============================] - 6s 44us/step - loss: 0.0014 - accuracy: 0.9996 - val_loss: 0.0051 - val_accuracy: 0.9992\n",
      "Epoch 39/100\n",
      "142404/142404 [==============================] - 9s 60us/step - loss: 0.0015 - accuracy: 0.9996 - val_loss: 0.0061 - val_accuracy: 0.9992\n",
      "Epoch 40/100\n",
      "142404/142404 [==============================] - 22s 151us/step - loss: 0.0014 - accuracy: 0.9996 - val_loss: 0.0057 - val_accuracy: 0.9993\n",
      "Epoch 41/100\n",
      "142404/142404 [==============================] - 21s 148us/step - loss: 0.0015 - accuracy: 0.9995 - val_loss: 0.0057 - val_accuracy: 0.9992\n",
      "Epoch 42/100\n",
      "142404/142404 [==============================] - 17s 118us/step - loss: 0.0014 - accuracy: 0.9996 - val_loss: 0.0056 - val_accuracy: 0.9992\n",
      "Epoch 43/100\n",
      "142404/142404 [==============================] - 13s 89us/step - loss: 0.0015 - accuracy: 0.9996 - val_loss: 0.0063 - val_accuracy: 0.9993\n",
      "Epoch 44/100\n",
      "142404/142404 [==============================] - 8s 56us/step - loss: 0.0014 - accuracy: 0.9996 - val_loss: 0.0057 - val_accuracy: 0.9993\n",
      "Epoch 45/100\n",
      "142404/142404 [==============================] - 8s 54us/step - loss: 0.0014 - accuracy: 0.9996 - val_loss: 0.0054 - val_accuracy: 0.9993\n",
      "Epoch 46/100\n",
      "142404/142404 [==============================] - 8s 54us/step - loss: 0.0015 - accuracy: 0.9996 - val_loss: 0.0057 - val_accuracy: 0.9992\n",
      "Epoch 47/100\n",
      "142404/142404 [==============================] - 8s 55us/step - loss: 0.0013 - accuracy: 0.9997 - val_loss: 0.0060 - val_accuracy: 0.9993\n",
      "Epoch 48/100\n",
      "142404/142404 [==============================] - 8s 57us/step - loss: 0.0014 - accuracy: 0.9997 - val_loss: 0.0061 - val_accuracy: 0.9992\n",
      "Epoch 49/100\n",
      "142404/142404 [==============================] - 8s 56us/step - loss: 0.0014 - accuracy: 0.9996 - val_loss: 0.0062 - val_accuracy: 0.9993\n",
      "Epoch 50/100\n",
      "142404/142404 [==============================] - 8s 59us/step - loss: 0.0013 - accuracy: 0.9997 - val_loss: 0.0057 - val_accuracy: 0.9992\n",
      "Epoch 51/100\n"
     ]
    },
    {
     "name": "stdout",
     "output_type": "stream",
     "text": [
      "142404/142404 [==============================] - 8s 56us/step - loss: 0.0015 - accuracy: 0.9996 - val_loss: 0.0057 - val_accuracy: 0.9992\n",
      "Epoch 52/100\n",
      "142404/142404 [==============================] - 8s 55us/step - loss: 0.0013 - accuracy: 0.9997 - val_loss: 0.0068 - val_accuracy: 0.9992\n",
      "Epoch 53/100\n",
      "142404/142404 [==============================] - 8s 55us/step - loss: 0.0015 - accuracy: 0.9996 - val_loss: 0.0056 - val_accuracy: 0.9992\n",
      "Epoch 54/100\n",
      "142404/142404 [==============================] - 7s 51us/step - loss: 0.0012 - accuracy: 0.9997 - val_loss: 0.0058 - val_accuracy: 0.9993\n",
      "Epoch 55/100\n",
      "142404/142404 [==============================] - 7s 52us/step - loss: 0.0015 - accuracy: 0.9996 - val_loss: 0.0064 - val_accuracy: 0.9992\n",
      "Epoch 56/100\n",
      "142404/142404 [==============================] - 7s 52us/step - loss: 0.0013 - accuracy: 0.9997 - val_loss: 0.0068 - val_accuracy: 0.9992\n",
      "Epoch 57/100\n",
      "142404/142404 [==============================] - 7s 51us/step - loss: 0.0013 - accuracy: 0.9997 - val_loss: 0.0064 - val_accuracy: 0.9992\n",
      "Epoch 58/100\n",
      "142404/142404 [==============================] - 7s 51us/step - loss: 0.0014 - accuracy: 0.9997 - val_loss: 0.0061 - val_accuracy: 0.9992\n",
      "Epoch 59/100\n",
      "142404/142404 [==============================] - 7s 51us/step - loss: 0.0013 - accuracy: 0.9996 - val_loss: 0.0075 - val_accuracy: 0.9991\n",
      "Epoch 60/100\n",
      "142404/142404 [==============================] - 7s 52us/step - loss: 0.0013 - accuracy: 0.9996 - val_loss: 0.0072 - val_accuracy: 0.9992\n",
      "Epoch 61/100\n",
      "142404/142404 [==============================] - 8s 54us/step - loss: 0.0014 - accuracy: 0.9996 - val_loss: 0.0065 - val_accuracy: 0.9992\n",
      "Epoch 62/100\n",
      "142404/142404 [==============================] - 7s 51us/step - loss: 0.0013 - accuracy: 0.9997 - val_loss: 0.0064 - val_accuracy: 0.9992\n",
      "Epoch 63/100\n",
      "142404/142404 [==============================] - 8s 54us/step - loss: 0.0013 - accuracy: 0.9997 - val_loss: 0.0064 - val_accuracy: 0.9992\n",
      "Epoch 64/100\n",
      "142404/142404 [==============================] - 8s 55us/step - loss: 0.0013 - accuracy: 0.9997 - val_loss: 0.0065 - val_accuracy: 0.9993\n",
      "Epoch 65/100\n",
      "142404/142404 [==============================] - 8s 53us/step - loss: 0.0013 - accuracy: 0.9996 - val_loss: 0.0066 - val_accuracy: 0.9991\n",
      "Epoch 66/100\n",
      "142404/142404 [==============================] - 8s 53us/step - loss: 0.0013 - accuracy: 0.9996 - val_loss: 0.0065 - val_accuracy: 0.9992\n",
      "Epoch 67/100\n",
      "142404/142404 [==============================] - 7s 51us/step - loss: 0.0013 - accuracy: 0.9996 - val_loss: 0.0061 - val_accuracy: 0.9992\n",
      "Epoch 68/100\n",
      "142404/142404 [==============================] - 7s 52us/step - loss: 0.0012 - accuracy: 0.9997 - val_loss: 0.0070 - val_accuracy: 0.9992\n",
      "Epoch 69/100\n",
      "142404/142404 [==============================] - 7s 51us/step - loss: 0.0013 - accuracy: 0.9997 - val_loss: 0.0066 - val_accuracy: 0.9992\n",
      "Epoch 70/100\n",
      "142404/142404 [==============================] - 7s 51us/step - loss: 0.0012 - accuracy: 0.9996 - val_loss: 0.0069 - val_accuracy: 0.9992\n",
      "Epoch 71/100\n",
      "142404/142404 [==============================] - 7s 51us/step - loss: 0.0012 - accuracy: 0.9997 - val_loss: 0.0076 - val_accuracy: 0.9990\n",
      "Epoch 72/100\n",
      "142404/142404 [==============================] - 7s 51us/step - loss: 0.0012 - accuracy: 0.9997 - val_loss: 0.0071 - val_accuracy: 0.9992\n",
      "Epoch 73/100\n",
      "142404/142404 [==============================] - 7s 51us/step - loss: 0.0012 - accuracy: 0.9997 - val_loss: 0.0070 - val_accuracy: 0.9991\n",
      "Epoch 74/100\n",
      "142404/142404 [==============================] - 7s 51us/step - loss: 0.0013 - accuracy: 0.9997 - val_loss: 0.0071 - val_accuracy: 0.9992\n",
      "Epoch 75/100\n",
      "142404/142404 [==============================] - 7s 51us/step - loss: 0.0012 - accuracy: 0.9997 - val_loss: 0.0070 - val_accuracy: 0.9991\n",
      "Epoch 76/100\n",
      "142404/142404 [==============================] - 7s 51us/step - loss: 0.0012 - accuracy: 0.9997 - val_loss: 0.0076 - val_accuracy: 0.9991\n",
      "Epoch 77/100\n",
      "142404/142404 [==============================] - 7s 50us/step - loss: 0.0015 - accuracy: 0.9996 - val_loss: 0.0068 - val_accuracy: 0.9992\n",
      "Epoch 78/100\n",
      "142404/142404 [==============================] - 7s 50us/step - loss: 0.0011 - accuracy: 0.9997 - val_loss: 0.0077 - val_accuracy: 0.9993\n",
      "Epoch 79/100\n",
      "142404/142404 [==============================] - 8s 53us/step - loss: 0.0012 - accuracy: 0.9996 - val_loss: 0.0072 - val_accuracy: 0.9992\n",
      "Epoch 80/100\n",
      "142404/142404 [==============================] - 8s 55us/step - loss: 0.0012 - accuracy: 0.9997 - val_loss: 0.0075 - val_accuracy: 0.9991\n",
      "Epoch 81/100\n",
      "142404/142404 [==============================] - 8s 53us/step - loss: 0.0012 - accuracy: 0.9997 - val_loss: 0.0076 - val_accuracy: 0.9992\n",
      "Epoch 82/100\n",
      "142404/142404 [==============================] - 7s 51us/step - loss: 0.0010 - accuracy: 0.9997 - val_loss: 0.0083 - val_accuracy: 0.9992\n",
      "Epoch 83/100\n",
      "142404/142404 [==============================] - 7s 51us/step - loss: 0.0012 - accuracy: 0.9997 - val_loss: 0.0082 - val_accuracy: 0.9991\n",
      "Epoch 84/100\n",
      "142404/142404 [==============================] - 7s 51us/step - loss: 0.0014 - accuracy: 0.9996 - val_loss: 0.0072 - val_accuracy: 0.9992\n",
      "Epoch 85/100\n",
      "142404/142404 [==============================] - 7s 51us/step - loss: 0.0011 - accuracy: 0.9997 - val_loss: 0.0071 - val_accuracy: 0.9992\n",
      "Epoch 86/100\n",
      "142404/142404 [==============================] - 7s 51us/step - loss: 0.0011 - accuracy: 0.9997 - val_loss: 0.0077 - val_accuracy: 0.9991\n",
      "Epoch 87/100\n",
      "142404/142404 [==============================] - 7s 51us/step - loss: 0.0010 - accuracy: 0.9997 - val_loss: 0.0092 - val_accuracy: 0.9993\n",
      "Epoch 88/100\n",
      "142404/142404 [==============================] - 7s 51us/step - loss: 0.0012 - accuracy: 0.9996 - val_loss: 0.0097 - val_accuracy: 0.9992\n",
      "Epoch 89/100\n",
      "142404/142404 [==============================] - 7s 51us/step - loss: 0.0011 - accuracy: 0.9997 - val_loss: 0.0090 - val_accuracy: 0.9992\n",
      "Epoch 90/100\n",
      "142404/142404 [==============================] - 7s 51us/step - loss: 0.0013 - accuracy: 0.9997 - val_loss: 0.0078 - val_accuracy: 0.9992\n",
      "Epoch 91/100\n",
      "142404/142404 [==============================] - 7s 51us/step - loss: 0.0010 - accuracy: 0.9997 - val_loss: 0.0076 - val_accuracy: 0.9992\n",
      "Epoch 92/100\n",
      "142404/142404 [==============================] - 7s 51us/step - loss: 0.0010 - accuracy: 0.9997 - val_loss: 0.0092 - val_accuracy: 0.9991\n",
      "Epoch 93/100\n",
      "142404/142404 [==============================] - 8s 53us/step - loss: 0.0011 - accuracy: 0.9997 - val_loss: 0.0075 - val_accuracy: 0.9992\n",
      "Epoch 94/100\n",
      "142404/142404 [==============================] - 7s 51us/step - loss: 0.0010 - accuracy: 0.9997 - val_loss: 0.0085 - val_accuracy: 0.9991\n",
      "Epoch 95/100\n",
      "142404/142404 [==============================] - 7s 52us/step - loss: 9.7707e-04 - accuracy: 0.9997 - val_loss: 0.0077 - val_accuracy: 0.9992\n",
      "Epoch 96/100\n",
      "142404/142404 [==============================] - 8s 55us/step - loss: 0.0012 - accuracy: 0.9997 - val_loss: 0.0079 - val_accuracy: 0.9991\n",
      "Epoch 97/100\n",
      "142404/142404 [==============================] - 8s 54us/step - loss: 0.0010 - accuracy: 0.9997 - val_loss: 0.0091 - val_accuracy: 0.9992\n",
      "Epoch 98/100\n",
      "142404/142404 [==============================] - 7s 52us/step - loss: 9.5211e-04 - accuracy: 0.9997 - val_loss: 0.0085 - val_accuracy: 0.9991\n",
      "Epoch 99/100\n",
      "142404/142404 [==============================] - 8s 56us/step - loss: 0.0011 - accuracy: 0.9997 - val_loss: 0.0093 - val_accuracy: 0.9991\n",
      "Epoch 100/100\n",
      "142404/142404 [==============================] - 8s 55us/step - loss: 9.9369e-04 - accuracy: 0.9997 - val_loss: 0.0094 - val_accuracy: 0.9991\n"
     ]
    },
    {
     "data": {
      "text/plain": [
       "<keras.callbacks.callbacks.History at 0x14fbf91c88>"
      ]
     },
     "execution_count": 15,
     "metadata": {},
     "output_type": "execute_result"
    }
   ],
   "source": [
    "model.compile(optimizer='adam',loss='binary_crossentropy',metrics=['accuracy'])\n",
    "model.fit(train, train_labels, epochs=100,validation_data=(val, val_labels))\n"
   ]
  },
  {
   "cell_type": "code",
   "execution_count": 16,
   "metadata": {},
   "outputs": [
    {
     "name": "stdout",
     "output_type": "stream",
     "text": [
      "85442/85442 [==============================] - 2s 25us/step\n"
     ]
    }
   ],
   "source": [
    "x = model.evaluate(test,test_labels)"
   ]
  },
  {
   "cell_type": "code",
   "execution_count": 17,
   "metadata": {},
   "outputs": [
    {
     "data": {
      "text/plain": [
       "[0.008385112964561438, 0.9992743730545044]"
      ]
     },
     "execution_count": 17,
     "metadata": {},
     "output_type": "execute_result"
    }
   ],
   "source": [
    "x"
   ]
  },
  {
   "cell_type": "code",
   "execution_count": 18,
   "metadata": {},
   "outputs": [],
   "source": [
    "prediction = model.predict(test)"
   ]
  },
  {
   "cell_type": "code",
   "execution_count": 23,
   "metadata": {},
   "outputs": [
    {
     "data": {
      "text/plain": [
       "array([0.], dtype=float32)"
      ]
     },
     "execution_count": 23,
     "metadata": {},
     "output_type": "execute_result"
    }
   ],
   "source": [
    "prediction[-1]"
   ]
  },
  {
   "cell_type": "code",
   "execution_count": 25,
   "metadata": {},
   "outputs": [
    {
     "data": {
      "text/plain": [
       "0         0\n",
       "5         0\n",
       "7         0\n",
       "12        0\n",
       "16        0\n",
       "         ..\n",
       "284796    0\n",
       "284798    0\n",
       "284801    0\n",
       "284802    0\n",
       "284805    0\n",
       "Name: Class, Length: 85442, dtype: int64"
      ]
     },
     "execution_count": 25,
     "metadata": {},
     "output_type": "execute_result"
    }
   ],
   "source": [
    "test_labels"
   ]
  },
  {
   "cell_type": "code",
   "execution_count": null,
   "metadata": {},
   "outputs": [],
   "source": []
  },
  {
   "cell_type": "code",
   "execution_count": null,
   "metadata": {},
   "outputs": [],
   "source": []
  },
  {
   "cell_type": "code",
   "execution_count": null,
   "metadata": {},
   "outputs": [],
   "source": []
  },
  {
   "cell_type": "code",
   "execution_count": null,
   "metadata": {},
   "outputs": [],
   "source": []
  },
  {
   "cell_type": "code",
   "execution_count": null,
   "metadata": {},
   "outputs": [],
   "source": []
  },
  {
   "cell_type": "code",
   "execution_count": null,
   "metadata": {},
   "outputs": [],
   "source": []
  },
  {
   "cell_type": "code",
   "execution_count": null,
   "metadata": {},
   "outputs": [],
   "source": []
  },
  {
   "cell_type": "code",
   "execution_count": null,
   "metadata": {},
   "outputs": [],
   "source": []
  },
  {
   "cell_type": "code",
   "execution_count": null,
   "metadata": {},
   "outputs": [],
   "source": []
  },
  {
   "cell_type": "code",
   "execution_count": null,
   "metadata": {},
   "outputs": [],
   "source": []
  },
  {
   "cell_type": "code",
   "execution_count": null,
   "metadata": {},
   "outputs": [],
   "source": []
  },
  {
   "cell_type": "code",
   "execution_count": null,
   "metadata": {},
   "outputs": [],
   "source": []
  },
  {
   "cell_type": "code",
   "execution_count": null,
   "metadata": {},
   "outputs": [],
   "source": []
  },
  {
   "cell_type": "code",
   "execution_count": null,
   "metadata": {},
   "outputs": [],
   "source": []
  },
  {
   "cell_type": "code",
   "execution_count": null,
   "metadata": {},
   "outputs": [],
   "source": []
  },
  {
   "cell_type": "code",
   "execution_count": null,
   "metadata": {},
   "outputs": [],
   "source": []
  },
  {
   "cell_type": "code",
   "execution_count": null,
   "metadata": {},
   "outputs": [],
   "source": []
  },
  {
   "cell_type": "code",
   "execution_count": null,
   "metadata": {},
   "outputs": [],
   "source": []
  }
 ],
 "metadata": {
  "kernelspec": {
   "display_name": "Python 3.7.6 64-bit (conda)",
   "language": "python",
   "name": "python37664bitconda6b92899776a343de98f1606e3918c2ba"
  },
  "language_info": {
   "codemirror_mode": {
    "name": "ipython",
    "version": 3
   },
   "file_extension": ".py",
   "mimetype": "text/x-python",
   "name": "python",
   "nbconvert_exporter": "python",
   "pygments_lexer": "ipython3",
   "version": "3.7.6"
  }
 },
 "nbformat": 4,
 "nbformat_minor": 4
}
